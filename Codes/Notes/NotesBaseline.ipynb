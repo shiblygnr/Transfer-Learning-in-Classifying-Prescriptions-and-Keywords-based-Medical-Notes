{
 "cells": [
  {
   "cell_type": "code",
   "execution_count": 13,
   "metadata": {},
   "outputs": [],
   "source": [
    "from sklearn.tree import DecisionTreeClassifier \n",
    "from sklearn.model_selection import train_test_split \n",
    "from sklearn import metrics \n",
    "from keras.preprocessing import text, sequence\n",
    "from sklearn.metrics import precision_score, recall_score, f1_score, classification_report, confusion_matrix\n",
    "import pandas as pd\n",
    "import keras"
   ]
  },
  {
   "cell_type": "code",
   "execution_count": 2,
   "metadata": {},
   "outputs": [],
   "source": [
    "df = pd.read_csv('cleaned.csv')"
   ]
  },
  {
   "cell_type": "code",
   "execution_count": 3,
   "metadata": {},
   "outputs": [],
   "source": [
    "df = df.sample(frac=1)"
   ]
  },
  {
   "cell_type": "code",
   "execution_count": 148,
   "metadata": {},
   "outputs": [
    {
     "data": {
      "text/html": [
       "<div>\n",
       "<style scoped>\n",
       "    .dataframe tbody tr th:only-of-type {\n",
       "        vertical-align: middle;\n",
       "    }\n",
       "\n",
       "    .dataframe tbody tr th {\n",
       "        vertical-align: top;\n",
       "    }\n",
       "\n",
       "    .dataframe thead th {\n",
       "        text-align: right;\n",
       "    }\n",
       "</style>\n",
       "<table border=\"1\" class=\"dataframe\">\n",
       "  <thead>\n",
       "    <tr style=\"text-align: right;\">\n",
       "      <th></th>\n",
       "      <th>keywords</th>\n",
       "      <th>label</th>\n",
       "    </tr>\n",
       "  </thead>\n",
       "  <tbody>\n",
       "    <tr>\n",
       "      <th>69</th>\n",
       "      <td>marlex repair  inguinal region  external obl...</td>\n",
       "      <td>urology</td>\n",
       "    </tr>\n",
       "    <tr>\n",
       "      <th>848</th>\n",
       "      <td>bile peritonitis  bowel perforation  pneumot...</td>\n",
       "      <td>gastroenterology</td>\n",
       "    </tr>\n",
       "    <tr>\n",
       "      <th>265</th>\n",
       "      <td>low back syndrome  low back pain  facet inje...</td>\n",
       "      <td>radiology</td>\n",
       "    </tr>\n",
       "    <tr>\n",
       "      <th>647</th>\n",
       "      <td>spondylosis  neck pain  headaches  decompres...</td>\n",
       "      <td>orthopedic</td>\n",
       "    </tr>\n",
       "    <tr>\n",
       "      <th>958</th>\n",
       "      <td>extrahepatic ductal dilatation  gallbladder ...</td>\n",
       "      <td>gastroenterology</td>\n",
       "    </tr>\n",
       "  </tbody>\n",
       "</table>\n",
       "</div>"
      ],
      "text/plain": [
       "                                              keywords             label\n",
       "69     marlex repair  inguinal region  external obl...           urology\n",
       "848    bile peritonitis  bowel perforation  pneumot...  gastroenterology\n",
       "265    low back syndrome  low back pain  facet inje...         radiology\n",
       "647    spondylosis  neck pain  headaches  decompres...        orthopedic\n",
       "958    extrahepatic ductal dilatation  gallbladder ...  gastroenterology"
      ]
     },
     "execution_count": 148,
     "metadata": {},
     "output_type": "execute_result"
    }
   ],
   "source": [
    "df.head()"
   ]
  },
  {
   "cell_type": "code",
   "execution_count": 17,
   "metadata": {},
   "outputs": [],
   "source": [
    "X = df.keywords.values\n",
    "y = df.label.values"
   ]
  },
  {
   "cell_type": "code",
   "execution_count": 18,
   "metadata": {},
   "outputs": [],
   "source": [
    "X_train, X_test, y_train, y_test = train_test_split(X, y, test_size = 0.2, random_state = 50)"
   ]
  },
  {
   "cell_type": "code",
   "execution_count": 19,
   "metadata": {},
   "outputs": [],
   "source": [
    "tokenize = text.Tokenizer(num_words=3035, char_level=False)\n",
    "tokenize.fit_on_texts(X_train)"
   ]
  },
  {
   "cell_type": "code",
   "execution_count": 20,
   "metadata": {},
   "outputs": [
    {
     "data": {
      "text/plain": [
       "3108"
      ]
     },
     "execution_count": 20,
     "metadata": {},
     "output_type": "execute_result"
    }
   ],
   "source": [
    "len(tokenize.word_index)"
   ]
  },
  {
   "cell_type": "code",
   "execution_count": 21,
   "metadata": {},
   "outputs": [],
   "source": [
    "X_train = tokenize.texts_to_matrix(X_train)\n",
    "X_test = tokenize.texts_to_matrix(X_test)"
   ]
  },
  {
   "cell_type": "code",
   "execution_count": 22,
   "metadata": {},
   "outputs": [
    {
     "data": {
      "text/plain": [
       "3035"
      ]
     },
     "execution_count": 22,
     "metadata": {},
     "output_type": "execute_result"
    }
   ],
   "source": [
    "len(X_train[0])"
   ]
  },
  {
   "cell_type": "code",
   "execution_count": 23,
   "metadata": {},
   "outputs": [],
   "source": [
    "from sklearn.preprocessing import LabelBinarizer, LabelEncoder\n",
    "encoder = LabelEncoder()\n",
    "encoder.fit(y)\n",
    "y_train = encoder.transform(y_train)\n",
    "y_test = encoder.transform(y_test)"
   ]
  },
  {
   "cell_type": "code",
   "execution_count": 24,
   "metadata": {},
   "outputs": [
    {
     "data": {
      "text/plain": [
       "array(['gastroenterology', 'neurology', 'orthopedic', 'radiology',\n",
       "       'urology'], dtype=object)"
      ]
     },
     "execution_count": 24,
     "metadata": {},
     "output_type": "execute_result"
    }
   ],
   "source": [
    "encoder.inverse_transform([0,1,2,3,4])"
   ]
  },
  {
   "cell_type": "code",
   "execution_count": 25,
   "metadata": {},
   "outputs": [],
   "source": [
    "clf = DecisionTreeClassifier()\n",
    "clf = clf.fit(X_train,y_train)"
   ]
  },
  {
   "cell_type": "code",
   "execution_count": 26,
   "metadata": {},
   "outputs": [],
   "source": [
    "y_pred = clf.predict(X_test)"
   ]
  },
  {
   "cell_type": "code",
   "execution_count": 27,
   "metadata": {},
   "outputs": [
    {
     "name": "stdout",
     "output_type": "stream",
     "text": [
      "Accuracy: 0.7414634146341463\n"
     ]
    }
   ],
   "source": [
    "print(\"Accuracy:\",metrics.accuracy_score(y_test, y_pred))"
   ]
  },
  {
   "cell_type": "code",
   "execution_count": 28,
   "metadata": {},
   "outputs": [
    {
     "name": "stdout",
     "output_type": "stream",
     "text": [
      "              precision    recall  f1-score   support\n",
      "\n",
      "           0       0.71      0.67      0.69        33\n",
      "           1       1.00      0.97      0.99        37\n",
      "           2       0.70      0.77      0.73        52\n",
      "           3       0.56      0.54      0.55        46\n",
      "           4       0.81      0.78      0.79        37\n",
      "\n",
      "    accuracy                           0.74       205\n",
      "   macro avg       0.75      0.75      0.75       205\n",
      "weighted avg       0.74      0.74      0.74       205\n",
      "\n"
     ]
    }
   ],
   "source": [
    "print(classification_report(y_test, y_pred))\n",
    "dec= classification_report(y_test, y_pred)"
   ]
  },
  {
   "cell_type": "code",
   "execution_count": 29,
   "metadata": {},
   "outputs": [
    {
     "data": {
      "text/plain": [
       "array([[22,  0,  1,  7,  3],\n",
       "       [ 0, 36,  1,  0,  0],\n",
       "       [ 2,  0, 40, 10,  0],\n",
       "       [ 5,  0, 12, 25,  4],\n",
       "       [ 2,  0,  3,  3, 29]], dtype=int64)"
      ]
     },
     "execution_count": 29,
     "metadata": {},
     "output_type": "execute_result"
    }
   ],
   "source": [
    "confusion_matrix(y_test, y_pred)"
   ]
  },
  {
   "cell_type": "code",
   "execution_count": 30,
   "metadata": {},
   "outputs": [
    {
     "name": "stderr",
     "output_type": "stream",
     "text": [
      "C:\\Users\\shibly\\Anaconda3\\lib\\site-packages\\sklearn\\ensemble\\forest.py:245: FutureWarning: The default value of n_estimators will change from 10 in version 0.20 to 100 in 0.22.\n",
      "  \"10 in version 0.20 to 100 in 0.22.\", FutureWarning)\n"
     ]
    },
    {
     "data": {
      "text/plain": [
       "RandomForestClassifier(bootstrap=True, class_weight=None, criterion='gini',\n",
       "                       max_depth=None, max_features='auto', max_leaf_nodes=None,\n",
       "                       min_impurity_decrease=0.0, min_impurity_split=None,\n",
       "                       min_samples_leaf=1, min_samples_split=2,\n",
       "                       min_weight_fraction_leaf=0.0, n_estimators=10,\n",
       "                       n_jobs=None, oob_score=False, random_state=0, verbose=0,\n",
       "                       warm_start=False)"
      ]
     },
     "execution_count": 30,
     "metadata": {},
     "output_type": "execute_result"
    }
   ],
   "source": [
    "from sklearn.ensemble import RandomForestClassifier\n",
    "from sklearn.datasets import make_classification\n",
    "clfRF = RandomForestClassifier(random_state=0)\n",
    "clfRF.fit(X_train, y_train)"
   ]
  },
  {
   "cell_type": "code",
   "execution_count": 31,
   "metadata": {},
   "outputs": [],
   "source": [
    "y_predRF = clfRF.predict(X_test)"
   ]
  },
  {
   "cell_type": "code",
   "execution_count": 32,
   "metadata": {},
   "outputs": [
    {
     "name": "stdout",
     "output_type": "stream",
     "text": [
      "Accuracy: 0.7121951219512195\n"
     ]
    }
   ],
   "source": [
    "print(\"Accuracy:\",metrics.accuracy_score(y_test, y_predRF))"
   ]
  },
  {
   "cell_type": "code",
   "execution_count": 33,
   "metadata": {},
   "outputs": [],
   "source": [
    "x = classification_report(y_test, y_predRF)"
   ]
  },
  {
   "cell_type": "code",
   "execution_count": 34,
   "metadata": {},
   "outputs": [
    {
     "name": "stdout",
     "output_type": "stream",
     "text": [
      "              precision    recall  f1-score   support\n",
      "\n",
      "           0       0.84      0.79      0.81        33\n",
      "           1       0.77      0.73      0.75        37\n",
      "           2       0.72      0.75      0.74        52\n",
      "           3       0.48      0.50      0.49        46\n",
      "           4       0.84      0.84      0.84        37\n",
      "\n",
      "    accuracy                           0.71       205\n",
      "   macro avg       0.73      0.72      0.73       205\n",
      "weighted avg       0.72      0.71      0.71       205\n",
      "\n"
     ]
    }
   ],
   "source": [
    "print(x)"
   ]
  },
  {
   "cell_type": "code",
   "execution_count": 35,
   "metadata": {},
   "outputs": [
    {
     "data": {
      "text/plain": [
       "array([[26,  0,  0,  6,  1],\n",
       "       [ 0, 27,  5,  5,  0],\n",
       "       [ 0,  1, 39, 11,  1],\n",
       "       [ 3,  7,  9, 23,  4],\n",
       "       [ 2,  0,  1,  3, 31]], dtype=int64)"
      ]
     },
     "execution_count": 35,
     "metadata": {},
     "output_type": "execute_result"
    }
   ],
   "source": [
    "confusion_matrix(y_test, y_predRF)"
   ]
  },
  {
   "cell_type": "code",
   "execution_count": 36,
   "metadata": {},
   "outputs": [
    {
     "data": {
      "text/plain": [
       "MultinomialNB(alpha=1.0, class_prior=None, fit_prior=True)"
      ]
     },
     "execution_count": 36,
     "metadata": {},
     "output_type": "execute_result"
    }
   ],
   "source": [
    "from sklearn.naive_bayes import MultinomialNB\n",
    "clfNB = MultinomialNB()\n",
    "clfNB.fit(X_train, y_train)"
   ]
  },
  {
   "cell_type": "code",
   "execution_count": 37,
   "metadata": {},
   "outputs": [],
   "source": [
    "y_predNB = clfNB.predict(X_test)"
   ]
  },
  {
   "cell_type": "code",
   "execution_count": 38,
   "metadata": {},
   "outputs": [
    {
     "name": "stdout",
     "output_type": "stream",
     "text": [
      "Accuracy: 0.7024390243902439\n"
     ]
    }
   ],
   "source": [
    "print(\"Accuracy:\",metrics.accuracy_score(y_test, y_predNB))"
   ]
  },
  {
   "cell_type": "code",
   "execution_count": 39,
   "metadata": {},
   "outputs": [
    {
     "name": "stdout",
     "output_type": "stream",
     "text": [
      "              precision    recall  f1-score   support\n",
      "\n",
      "           0       0.96      0.70      0.81        33\n",
      "           1       0.62      0.57      0.59        37\n",
      "           2       0.79      0.81      0.80        52\n",
      "           3       0.46      0.48      0.47        46\n",
      "           4       0.78      0.97      0.87        37\n",
      "\n",
      "    accuracy                           0.70       205\n",
      "   macro avg       0.72      0.70      0.71       205\n",
      "weighted avg       0.71      0.70      0.70       205\n",
      "\n"
     ]
    }
   ],
   "source": [
    "print(classification_report(y_test, y_predNB))\n",
    "d = classification_report(y_test, y_predNB)"
   ]
  },
  {
   "cell_type": "code",
   "execution_count": 40,
   "metadata": {},
   "outputs": [
    {
     "data": {
      "text/plain": [
       "array([[23,  0,  0,  7,  3],\n",
       "       [ 0, 21,  3, 11,  2],\n",
       "       [ 0,  2, 42,  7,  1],\n",
       "       [ 1, 11,  8, 22,  4],\n",
       "       [ 0,  0,  0,  1, 36]], dtype=int64)"
      ]
     },
     "execution_count": 40,
     "metadata": {},
     "output_type": "execute_result"
    }
   ],
   "source": [
    "confusion_matrix(y_test, y_predNB)"
   ]
  },
  {
   "cell_type": "code",
   "execution_count": 42,
   "metadata": {},
   "outputs": [
    {
     "data": {
      "text/plain": [
       "['DTBestBaseline.sav']"
      ]
     },
     "execution_count": 42,
     "metadata": {},
     "output_type": "execute_result"
    }
   ],
   "source": [
    "#saving best baseline model\n",
    "import joblib\n",
    "joblib.dump(clf, 'DTBestBaseline.sav')"
   ]
  },
  {
   "cell_type": "code",
   "execution_count": 44,
   "metadata": {},
   "outputs": [],
   "source": [
    "#load and predict with a saved model\n",
    "predictor = joblib.load('DTBestBaseline.sav')"
   ]
  },
  {
   "cell_type": "code",
   "execution_count": 139,
   "metadata": {},
   "outputs": [],
   "source": [
    "y_predict = predictor.predict(X_test)"
   ]
  },
  {
   "cell_type": "code",
   "execution_count": 140,
   "metadata": {},
   "outputs": [
    {
     "data": {
      "text/plain": [
       "array([1, 2, 0, 4, 1, 1, 0, 0, 0, 2, 4, 4, 1, 2, 3, 3, 2, 4, 3, 2, 2, 3,\n",
       "       1, 2, 0, 4, 3, 4, 1, 4, 1, 2, 1, 1, 4, 1, 2, 0, 3, 2, 1, 0, 2, 4,\n",
       "       4, 3, 3, 2, 0, 1, 2, 4, 2, 3, 3, 1, 2, 2, 2, 2, 3, 0, 1, 0, 2, 0,\n",
       "       0, 1, 0, 4, 2, 4, 4, 3, 2, 2, 3, 2, 1, 0, 4, 1, 3, 1, 2, 0, 3, 2,\n",
       "       0, 4, 2, 1, 3, 4, 3, 0, 4, 0, 2, 1, 0, 2, 2, 2, 3, 3, 4, 0, 4, 0,\n",
       "       3, 3, 0, 1, 3, 2, 3, 4, 2, 1, 2, 3, 3, 1, 4, 1, 1, 1, 0, 3, 3, 3,\n",
       "       2, 2, 3, 1, 1, 2, 3, 2, 2, 0, 1, 1, 2, 4, 2, 1, 0, 0, 0, 3, 3, 4,\n",
       "       4, 3, 2, 1, 4, 3, 2, 2, 0, 0, 4, 4, 2, 4, 2, 2, 3, 0, 3, 2, 2, 3,\n",
       "       1, 2, 3, 2, 3, 2, 4, 4, 1, 4, 3, 4, 2, 1, 4, 3, 2, 1, 2, 2, 4, 0,\n",
       "       3, 2, 3, 3, 4, 2, 3])"
      ]
     },
     "execution_count": 140,
     "metadata": {},
     "output_type": "execute_result"
    }
   ],
   "source": [
    "y_predict"
   ]
  },
  {
   "cell_type": "code",
   "execution_count": 141,
   "metadata": {},
   "outputs": [
    {
     "name": "stdout",
     "output_type": "stream",
     "text": [
      "              precision    recall  f1-score   support\n",
      "\n",
      "           0       0.67      0.71      0.69        31\n",
      "           1       0.97      1.00      0.99        36\n",
      "           2       0.77      0.70      0.73        57\n",
      "           3       0.54      0.56      0.55        45\n",
      "           4       0.78      0.81      0.79        36\n",
      "\n",
      "    accuracy                           0.74       205\n",
      "   macro avg       0.75      0.75      0.75       205\n",
      "weighted avg       0.74      0.74      0.74       205\n",
      "\n"
     ]
    }
   ],
   "source": [
    "print(classification_report(y_predict, y_test))"
   ]
  },
  {
   "cell_type": "code",
   "execution_count": 142,
   "metadata": {},
   "outputs": [
    {
     "data": {
      "text/html": [
       "<div>\n",
       "<style scoped>\n",
       "    .dataframe tbody tr th:only-of-type {\n",
       "        vertical-align: middle;\n",
       "    }\n",
       "\n",
       "    .dataframe tbody tr th {\n",
       "        vertical-align: top;\n",
       "    }\n",
       "\n",
       "    .dataframe thead th {\n",
       "        text-align: right;\n",
       "    }\n",
       "</style>\n",
       "<table border=\"1\" class=\"dataframe\">\n",
       "  <thead>\n",
       "    <tr style=\"text-align: right;\">\n",
       "      <th></th>\n",
       "      <th>keywords</th>\n",
       "      <th>Unnamed: 1</th>\n",
       "    </tr>\n",
       "  </thead>\n",
       "  <tbody>\n",
       "    <tr>\n",
       "      <th>0</th>\n",
       "      <td>pyeloplasty, ureteral sten...</td>\n",
       "      <td>NaN</td>\n",
       "    </tr>\n",
       "    <tr>\n",
       "      <th>1</th>\n",
       "      <td>fascial defect, umbilical ...</td>\n",
       "      <td>NaN</td>\n",
       "    </tr>\n",
       "    <tr>\n",
       "      <th>2</th>\n",
       "      <td>origin of stalk, extensor ...</td>\n",
       "      <td>NaN</td>\n",
       "    </tr>\n",
       "    <tr>\n",
       "      <th>3</th>\n",
       "      <td>chronic venous hypertensio...</td>\n",
       "      <td>NaN</td>\n",
       "    </tr>\n",
       "  </tbody>\n",
       "</table>\n",
       "</div>"
      ],
      "text/plain": [
       "                                            keywords  Unnamed: 1\n",
       "0                      pyeloplasty, ureteral sten...         NaN\n",
       "1                      fascial defect, umbilical ...         NaN\n",
       "2                      origin of stalk, extensor ...         NaN\n",
       "3                      chronic venous hypertensio...         NaN"
      ]
     },
     "execution_count": 142,
     "metadata": {},
     "output_type": "execute_result"
    }
   ],
   "source": [
    "from io import StringIO \n",
    "sample1 = StringIO(\"\"\"keywords;\n",
    "                    pyeloplasty, ureteral stent placement, nephrolithotomy, ureteropelvic junction obstruction, jackson-pratt drain, foley catheter, renal pelvis, kidney stones, monocryl sutures, pelvis, renal, ureteropelvic, sutures;\n",
    "                    fascial defect, umbilical hernia repair, curvilinear umbilical, hernia sac, metzenbaum scissors, umbilical hernia, bovie electrocautery, electrocautery, hernia, incision, umbilical;\n",
    "                    origin of stalk, extensor retinaculum, wrist ganglion, incision, excision, dorsal, tourniquet, wrist, ganglion;\n",
    "                    chronic venous hypertension, varicosities, stab phlebectomies, greater saphenous vein stripping, lower extremities, vein stripping, saphenous vein, vein, incisions, hemostasis, stripping, branches, phlebectomies\n",
    "                    \"\"\")\n",
    "\n",
    "    #keywords labeled as \n",
    "    #1. urology(labeled as 4) \n",
    "    #2. gasternology(labeled as 0) \n",
    "    #3. orthopedic(labeled as 2)\n",
    "    #4. neurology (labeled as 1)\n",
    "    #first we need to preprocess the example. Store the input texts to a dataframe and preprocess\n",
    "\n",
    "predictDF = pd.read_csv(sample1, sep =\";\")\n",
    "\n",
    "\n",
    "predictDF"
   ]
  },
  {
   "cell_type": "code",
   "execution_count": 143,
   "metadata": {},
   "outputs": [
    {
     "data": {
      "text/html": [
       "<div>\n",
       "<style scoped>\n",
       "    .dataframe tbody tr th:only-of-type {\n",
       "        vertical-align: middle;\n",
       "    }\n",
       "\n",
       "    .dataframe tbody tr th {\n",
       "        vertical-align: top;\n",
       "    }\n",
       "\n",
       "    .dataframe thead th {\n",
       "        text-align: right;\n",
       "    }\n",
       "</style>\n",
       "<table border=\"1\" class=\"dataframe\">\n",
       "  <thead>\n",
       "    <tr style=\"text-align: right;\">\n",
       "      <th></th>\n",
       "      <th>keywords</th>\n",
       "      <th>Unnamed: 1</th>\n",
       "    </tr>\n",
       "  </thead>\n",
       "  <tbody>\n",
       "    <tr>\n",
       "      <th>0</th>\n",
       "      <td>pyeloplasty  ureteral sten...</td>\n",
       "      <td>NaN</td>\n",
       "    </tr>\n",
       "    <tr>\n",
       "      <th>1</th>\n",
       "      <td>fascial defect  umbilical ...</td>\n",
       "      <td>NaN</td>\n",
       "    </tr>\n",
       "    <tr>\n",
       "      <th>2</th>\n",
       "      <td>origin of stalk  extensor ...</td>\n",
       "      <td>NaN</td>\n",
       "    </tr>\n",
       "    <tr>\n",
       "      <th>3</th>\n",
       "      <td>chronic venous hypertensio...</td>\n",
       "      <td>NaN</td>\n",
       "    </tr>\n",
       "  </tbody>\n",
       "</table>\n",
       "</div>"
      ],
      "text/plain": [
       "                                            keywords  Unnamed: 1\n",
       "0                      pyeloplasty  ureteral sten...         NaN\n",
       "1                      fascial defect  umbilical ...         NaN\n",
       "2                      origin of stalk  extensor ...         NaN\n",
       "3                      chronic venous hypertensio...         NaN"
      ]
     },
     "execution_count": 143,
     "metadata": {},
     "output_type": "execute_result"
    }
   ],
   "source": [
    "import re\n",
    "REPLACE_BY_SPACE_RE = re.compile('[/(){}\\[\\]\\|@,;]')\n",
    "BAD_SYMBOLS_RE = re.compile('[^0-9a-z #+_]')\n",
    "SPACE_RE = re.compile(' ')\n",
    "def clean_text(text):\n",
    "    \"\"\"\n",
    "        text: a string\n",
    "        \n",
    "        return: modified initial string\n",
    "    \"\"\"\n",
    "    #text = BeautifulSoup(text, \"lxml\").text # HTML decoding\n",
    "    text = text.lower() # lowercase text\n",
    "    text = REPLACE_BY_SPACE_RE.sub(' ', text) # replace REPLACE_BY_SPACE_RE symbols by space in text\n",
    "    text = BAD_SYMBOLS_RE.sub('', text) # delete symbols which are in BAD_SYMBOLS_RE from text\n",
    "    text = SPACE_RE.sub(' ', text)\n",
    "    #text = ' '.join(word for word in text.split() if word not in STOPWORDS) # delete stopwors from text\n",
    "    return text\n",
    "\n",
    "predictDF['keywords'] = predictDF['keywords'].apply(clean_text)\n",
    "predictDF"
   ]
  },
  {
   "cell_type": "code",
   "execution_count": 144,
   "metadata": {},
   "outputs": [],
   "source": [
    "X_sample1 = tokenize.texts_to_matrix(predictDF.keywords)"
   ]
  },
  {
   "cell_type": "code",
   "execution_count": 145,
   "metadata": {},
   "outputs": [
    {
     "data": {
      "text/plain": [
       "array([[0., 0., 0., ..., 0., 1., 1.],\n",
       "       [0., 0., 0., ..., 0., 0., 0.],\n",
       "       [0., 1., 0., ..., 0., 0., 0.],\n",
       "       [0., 0., 0., ..., 0., 0., 0.]])"
      ]
     },
     "execution_count": 145,
     "metadata": {},
     "output_type": "execute_result"
    }
   ],
   "source": [
    "X_sample1"
   ]
  },
  {
   "cell_type": "code",
   "execution_count": 146,
   "metadata": {},
   "outputs": [
    {
     "data": {
      "text/plain": [
       "array([4, 0, 2, 2])"
      ]
     },
     "execution_count": 146,
     "metadata": {},
     "output_type": "execute_result"
    }
   ],
   "source": [
    "y_sample1 = predictor.predict(X_sample1)\n",
    "y_sample1"
   ]
  },
  {
   "cell_type": "code",
   "execution_count": 147,
   "metadata": {},
   "outputs": [],
   "source": [
    "#first 3 prediction was right. model missclassified the last one"
   ]
  },
  {
   "cell_type": "code",
   "execution_count": 233,
   "metadata": {},
   "outputs": [],
   "source": [
    "label = ['Gastroenterology', 'Neurology', 'Orthopedic', 'Radiology',\n",
    "       'Urology', 'Gastroenterology', 'Neurology', 'Orthopedic', 'Radiology',\n",
    "       'Urology', 'Gastroenterology', 'Neurology', 'Orthopedic', 'Radiology',\n",
    "       'Urology',]"
   ]
  },
  {
   "cell_type": "code",
   "execution_count": 222,
   "metadata": {},
   "outputs": [
    {
     "data": {
      "text/plain": [
       "['Gastroenterology',\n",
       " 'Neurology',\n",
       " 'Orthopedic',\n",
       " 'Radiology',\n",
       " 'Urology',\n",
       " 'Gastroenterology',\n",
       " 'Neurology',\n",
       " 'Orthopedic',\n",
       " 'Radiology',\n",
       " 'Urology']"
      ]
     },
     "execution_count": 222,
     "metadata": {},
     "output_type": "execute_result"
    }
   ],
   "source": [
    "label"
   ]
  },
  {
   "cell_type": "code",
   "execution_count": 138,
   "metadata": {},
   "outputs": [
    {
     "name": "stdout",
     "output_type": "stream",
     "text": [
      "              precision    recall  f1-score   support\n",
      "\n",
      "           0       0.86      0.76      0.81        42\n",
      "           1       1.00      0.96      0.98        26\n",
      "           2       0.67      0.81      0.73        58\n",
      "           3       0.65      0.57      0.61        54\n",
      "           4       0.80      0.80      0.80        25\n",
      "\n",
      "    accuracy                           0.76       205\n",
      "   macro avg       0.80      0.78      0.79       205\n",
      "weighted avg       0.76      0.76      0.76       205\n",
      "\n"
     ]
    }
   ],
   "source": [
    "print(classification_report(y_test, y_pred))"
   ]
  },
  {
   "cell_type": "code",
   "execution_count": 251,
   "metadata": {},
   "outputs": [
    {
     "data": {
      "image/png": "[encoded data removed]",
      "text/plain": [
       "<Figure size 1440x360 with 1 Axes>"
      ]
     },
     "metadata": {
      "needs_background": "light"
     },
     "output_type": "display_data"
    }
   ],
   "source": [
    "import matplotlib.pyplot as plt\n",
    " \n",
    "# Create bars\n",
    "barWidth = 2\n",
    "bars1 = [0.86, 1.00, 0.67, 0.65, 0.80, 0.82, 1.00, 0.83, 0.64, 0.84, 0.78, 0.83, 0.95, 0.87, 0.72 ]\n",
    "bars2 = [0.76, 0.96, 0.81, 0.57 ,0.80, 0.71, 1.00, 0.81, 0.71, 0.84 , 0.85, 0.92, 1.00, 0.81, 0.56]\n",
    "bars3 = [0.81 , 0.98, 0.73, 0.61, 0.80, 0.76, 1.00, 0.82, 0.67, 0.84, 0.81, 0.87, 0.98, 0.84, 0.63]\n",
    "bars4 = bars1 + bars2 + bars3\n",
    " \n",
    "# The X position of bars\n",
    "r1 = [1,8,15, 22, 29, 41, 48, 55, 62, 69, 81, 88, 95, 102, 109]\n",
    "r2 = [3,10,17, 24, 31, 43, 50, 57, 64, 71, 83, 90, 97, 104, 111]\n",
    "r3 = [5,12,19,26,33, 45, 52, 59, 66, 73, 85, 92, 99, 106, 113]\n",
    "r4 = r1 + r2 + r3\n",
    " \n",
    "plt.figure(figsize=(20, 5))\n",
    "# Create barplot\n",
    "plt.bar(r1, bars1, width = barWidth, color = (0.0,0.0,0.0,0.5), label='Precision')\n",
    "plt.bar(r2, bars2, width = barWidth, color = (0.3,0.5,0.4,0.6), label='Recall')\n",
    "plt.bar(r3, bars3, width = barWidth, color = (0.8,0.7,0.4,0.6), label='F1-score')\n",
    "# Note: the barplot could be created easily. See the barplot section for other examples.\n",
    " \n",
    "# Create legend\n",
    "plt.legend()\n",
    "plt.xlabel('Medical specialty', fontsize=10)\n",
    "plt.ylabel('precision/recall/f1', fontsize=10)\n",
    " \n",
    "# Text below each barplot with a rotation at 90°\n",
    "#plt.xticks([r + barWidth for r in range(len(r4)/3)], ['DD', 'with himself', 'with DC', 'with Silur', 'DC'], rotation=90)\n",
    " \n",
    "# Create labels\n",
    "labels = bars4\n",
    " \n",
    "# Text on the top of each barplot\n",
    "for i in range(len(r4)):\n",
    "    plt.text(x = r4[i]-0.5 , y = bars4[i]+0.02, s = labels[i], size = 10, rotation = 90)\n",
    " \n",
    "# Adjust the margins\n",
    "plt.subplots_adjust(bottom=0.25, top = 1.4)\n",
    "#X = np.arange(15)\n",
    "plt.xticks([2.75, 9.75, 16.75, 23.75, 30.75, 42.75, 49.75, 56.75, 63.75, 70.75, 82.75, 89.75, 96.75, 103.75, 110.75 ], label, fontsize=10, rotation=45)\n",
    "# Show graphic\n",
    "plt.show()"
   ]
  },
  {
   "cell_type": "code",
   "execution_count": 149,
   "metadata": {},
   "outputs": [
    {
     "name": "stdout",
     "output_type": "stream",
     "text": [
      "              precision    recall  f1-score   support\n",
      "\n",
      "           0       0.67      0.71      0.69        31\n",
      "           1       0.97      1.00      0.99        36\n",
      "           2       0.77      0.70      0.73        57\n",
      "           3       0.54      0.56      0.55        45\n",
      "           4       0.78      0.81      0.79        36\n",
      "\n",
      "    accuracy                           0.74       205\n",
      "   macro avg       0.75      0.75      0.75       205\n",
      "weighted avg       0.74      0.74      0.74       205\n",
      "\n"
     ]
    }
   ],
   "source": [
    "print(classification_report(y_predict, y_test))"
   ]
  },
  {
   "cell_type": "code",
   "execution_count": 237,
   "metadata": {},
   "outputs": [
    {
     "data": {
      "image/png": "[encoded data removed]",
      "text/plain": [
       "<Figure size 720x86.4 with 1 Axes>"
      ]
     },
     "metadata": {
      "needs_background": "light"
     },
     "output_type": "display_data"
    }
   ],
   "source": [
    "import matplotlib.pyplot as plt\n",
    "label = ['Gastroenterology', 'Neurology', 'Orthopedic', 'Radiology',\n",
    "       'Urology']\n",
    "# Create bars\n",
    "barWidth = 2\n",
    "bars1 = [0.67, 0.97, 0.77, 0.54, 0.78]\n",
    "bars2 = [0.71, 1.0, 0.70, 0.56 ,0.81]\n",
    "bars3 = [0.69 , 0.99, 0.73, 0.55, 0.79]\n",
    "bars4 = bars1 + bars2 + bars3\n",
    " \n",
    "# The X position of bars\n",
    "r1 = [1,8,15, 22, 29]\n",
    "r2 = [3,10,17, 24, 31]\n",
    "r3 = [5,12,19,26,33]\n",
    "r4 = r1 + r2 + r3\n",
    " \n",
    "plt.figure(figsize=(10, 1.2))\n",
    "# Create barplot\n",
    "plt.bar(r1, bars1, width = barWidth, color = 'lightseagreen', label='Precision')\n",
    "plt.bar(r2, bars2, width = barWidth, color = 'lightsteelblue', label='Recall')\n",
    "plt.bar(r3, bars3, width = barWidth, color = 'gainsboro', label='F1-score')\n",
    "# Note: the barplot could be created easily. See the barplot section for other examples.\n",
    " \n",
    "# Create legend\n",
    "plt.legend()\n",
    "plt.xlabel('Medical specialty', fontsize=12)\n",
    "plt.ylabel('precision/recall/f1', fontsize=12)\n",
    " \n",
    "# Text below each barplot with a rotation at 90°\n",
    "#plt.xticks([r + barWidth for r in range(len(r4)/3)], ['DD', 'with himself', 'with DC', 'with Silur', 'DC'], rotation=90)\n",
    " \n",
    "# Create labels\n",
    "labels = bars4\n",
    " \n",
    "# Text on the top of each barplot\n",
    "for i in range(len(r4)):\n",
    "    plt.text(x = r4[i]-0.9 , y = bars4[i]+0.02, s = labels[i], size = 12, rotation = 0)\n",
    " \n",
    "# Adjust the margins\n",
    "plt.subplots_adjust(bottom=1, top = 5.6)\n",
    "#X = np.arange(15)\n",
    "plt.title('Specialty-wise performance for the best baseline model')\n",
    "plt.xticks([2.75, 9.75, 16.75, 23.75, 30.75], label, fontsize=12, rotation=30)\n",
    "# Show graphic\n",
    "plt.show()"
   ]
  },
  {
   "cell_type": "code",
   "execution_count": null,
   "metadata": {},
   "outputs": [],
   "source": []
  }
 ],
 "metadata": {
  "kernelspec": {
   "display_name": "Python 3",
   "language": "python",
   "name": "python3"
  },
  "language_info": {
   "codemirror_mode": {
    "name": "ipython",
    "version": 3
   },
   "file_extension": ".py",
   "mimetype": "text/x-python",
   "name": "python",
   "nbconvert_exporter": "python",
   "pygments_lexer": "ipython3",
   "version": "3.7.3"
  }
 },
 "nbformat": 4,
 "nbformat_minor": 2
}
