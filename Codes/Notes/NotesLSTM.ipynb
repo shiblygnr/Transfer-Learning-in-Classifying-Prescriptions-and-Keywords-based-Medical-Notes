{
 "cells": [
  {
   "cell_type": "code",
   "execution_count": 1,
   "metadata": {},
   "outputs": [],
   "source": [
    "import csv\n",
    "import tensorflow as tf\n",
    "import numpy as np\n",
    "from tensorflow.keras.preprocessing.text import Tokenizer\n",
    "from tensorflow.keras.preprocessing.sequence import pad_sequences"
   ]
  },
  {
   "cell_type": "code",
   "execution_count": 2,
   "metadata": {},
   "outputs": [
    {
     "data": {
      "text/plain": [
       "False"
      ]
     },
     "execution_count": 2,
     "metadata": {},
     "output_type": "execute_result"
    }
   ],
   "source": [
    "tf.test.is_gpu_available()"
   ]
  },
  {
   "cell_type": "code",
   "execution_count": 3,
   "metadata": {},
   "outputs": [],
   "source": [
    "vocab_size = 3500\n",
    "embedding_dim = 128\n",
    "max_length = 150\n",
    "trunc_type = 'post'\n",
    "padding_type = 'post'\n",
    "oov_tok = '<OOV>'\n",
    "training_portion = .8"
   ]
  },
  {
   "cell_type": "code",
   "execution_count": 4,
   "metadata": {},
   "outputs": [],
   "source": [
    "import pandas as pd\n",
    "df = pd.read_csv('cleaned.csv')"
   ]
  },
  {
   "cell_type": "code",
   "execution_count": 5,
   "metadata": {},
   "outputs": [],
   "source": [
    "df = df.sample(frac=1)"
   ]
  },
  {
   "cell_type": "code",
   "execution_count": 6,
   "metadata": {},
   "outputs": [],
   "source": [
    "X = df.keywords.values\n",
    "y = df.label.values"
   ]
  },
  {
   "cell_type": "code",
   "execution_count": 7,
   "metadata": {},
   "outputs": [],
   "source": [
    "from sklearn.model_selection import train_test_split\n",
    "X_train, X_test, y_train, y_test = train_test_split(X, y, test_size = 0.2, random_state = 50)"
   ]
  },
  {
   "cell_type": "code",
   "execution_count": 8,
   "metadata": {},
   "outputs": [],
   "source": [
    "from sklearn.preprocessing import LabelBinarizer, LabelEncoder\n",
    "encoder = LabelEncoder()\n",
    "encoder.fit(y)\n",
    "y_train = encoder.transform(y_train)\n",
    "y_test = encoder.transform(y_test)"
   ]
  },
  {
   "cell_type": "code",
   "execution_count": 9,
   "metadata": {},
   "outputs": [
    {
     "data": {
      "text/plain": [
       "array(['gastroenterology', 'neurology', 'orthopedic', 'radiology',\n",
       "       'urology'], dtype=object)"
      ]
     },
     "execution_count": 9,
     "metadata": {},
     "output_type": "execute_result"
    }
   ],
   "source": [
    "encoder.inverse_transform([0,1,2,3,4])"
   ]
  },
  {
   "cell_type": "code",
   "execution_count": 10,
   "metadata": {},
   "outputs": [
    {
     "data": {
      "text/plain": [
       "{'<OOV>': 1,\n",
       " 'of': 2,\n",
       " 'and': 3,\n",
       " 'ct': 4,\n",
       " 'or': 5,\n",
       " 'cervical': 6,\n",
       " 'to': 7,\n",
       " 'mri': 8,\n",
       " 'sample': 9,\n",
       " 'the': 10}"
      ]
     },
     "execution_count": 10,
     "metadata": {},
     "output_type": "execute_result"
    }
   ],
   "source": [
    "tokenizer = Tokenizer(num_words = vocab_size, oov_token=oov_tok)\n",
    "tokenizer.fit_on_texts(X_train) #only train\n",
    "word_index = tokenizer.word_index\n",
    "dict(list(word_index.items())[0:10])"
   ]
  },
  {
   "cell_type": "code",
   "execution_count": 11,
   "metadata": {},
   "outputs": [
    {
     "data": {
      "text/plain": [
       "3117"
      ]
     },
     "execution_count": 11,
     "metadata": {},
     "output_type": "execute_result"
    }
   ],
   "source": [
    "len(word_index)"
   ]
  },
  {
   "cell_type": "code",
   "execution_count": 12,
   "metadata": {},
   "outputs": [],
   "source": [
    "X_train_seq = tokenizer.texts_to_sequences(X_train)\n",
    "X_train_padded = pad_sequences(X_train_seq, maxlen=max_length, padding=padding_type, truncating=trunc_type)"
   ]
  },
  {
   "cell_type": "code",
   "execution_count": 13,
   "metadata": {},
   "outputs": [],
   "source": [
    "X_test_seq = tokenizer.texts_to_sequences(X_test)\n",
    "X_test_padded = pad_sequences(X_test_seq, maxlen=max_length, padding=padding_type, truncating=trunc_type)"
   ]
  },
  {
   "cell_type": "code",
   "execution_count": 14,
   "metadata": {},
   "outputs": [
    {
     "name": "stdout",
     "output_type": "stream",
     "text": [
      "growth on the arm subluxing ulnar nerve collateral ligamentous complex common extensor tendon posteromedial aspect epimysial sheath extensor tendon tendon insertions ulnar nerve elbow edema olecranon inflammation nerve ulnar tendon ? ? ? ? ? ? ? ? ? ? ? ? ? ? ? ? ? ? ? ? ? ? ? ? ? ? ? ? ? ? ? ? ? ? ? ? ? ? ? ? ? ? ? ? ? ? ? ? ? ? ? ? ? ? ? ? ? ? ? ? ? ? ? ? ? ? ? ? ? ? ? ? ? ? ? ? ? ? ? ? ? ? ? ? ? ? ? ? ? ? ? ? ? ? ? ? ? ? ? ? ? ? ? ? ? ? ? ? ? ? ? ? ? ? ? ? ? ? ? ?\n",
      "---\n",
      "  growth on the arm  subluxing ulnar nerve  collateral ligamentous complex  common extensor tendon  posteromedial aspect  epimysial sheath  extensor tendon  tendon insertions  ulnar nerve  elbow  edema  olecranon  inflammation  nerve  ulnar  tendon\n"
     ]
    }
   ],
   "source": [
    "reverse_word_index = dict([(value, key) for (key, value) in word_index.items()])\n",
    "\n",
    "def decode_article(text):\n",
    "    return ' '.join([reverse_word_index.get(i, '?') for i in text])\n",
    "print(decode_article(X_train_padded[10]))\n",
    "print('---')\n",
    "print(X_train[10])"
   ]
  },
  {
   "cell_type": "code",
   "execution_count": 15,
   "metadata": {},
   "outputs": [
    {
     "name": "stdout",
     "output_type": "stream",
     "text": [
      "WARNING:tensorflow:From C:\\Users\\shibly\\Anaconda3\\lib\\site-packages\\tensorflow\\python\\ops\\resource_variable_ops.py:435: colocate_with (from tensorflow.python.framework.ops) is deprecated and will be removed in a future version.\n",
      "Instructions for updating:\n",
      "Colocations handled automatically by placer.\n",
      "_________________________________________________________________\n",
      "Layer (type)                 Output Shape              Param #   \n",
      "=================================================================\n",
      "embedding (Embedding)        (None, 150, 128)          448000    \n",
      "_________________________________________________________________\n",
      "bidirectional (Bidirectional (None, 256)               263168    \n",
      "_________________________________________________________________\n",
      "dense (Dense)                (None, 128)               32896     \n",
      "_________________________________________________________________\n",
      "dense_1 (Dense)              (None, 5)                 645       \n",
      "=================================================================\n",
      "Total params: 744,709\n",
      "Trainable params: 744,709\n",
      "Non-trainable params: 0\n",
      "_________________________________________________________________\n"
     ]
    }
   ],
   "source": [
    "model = tf.keras.Sequential([\n",
    "    # Add an Embedding layer expecting input vocab of size 5000, and output embedding dimension of size 64 we set at the top\n",
    "    tf.keras.layers.Embedding(vocab_size, embedding_dim, input_length = 150),\n",
    "    #tf.keras.layers.SpatialDropout1D(0.2),\n",
    "    tf.keras.layers.Bidirectional(tf.keras.layers.LSTM(embedding_dim)),\n",
    "#    tf.keras.layers.Bidirectional(tf.keras.layers.LSTM(32)),\n",
    "    # use ReLU in place of tanh function since they are very good alternatives of each other.\n",
    "    tf.keras.layers.Dense(embedding_dim, activation='relu'),\n",
    "    # Add a Dense layer with 6 units and softmax activation.\n",
    "    # When we have multiple outputs, softmax convert outputs layers into a probability distribution.\n",
    "    tf.keras.layers.Dense(5, activation='softmax')\n",
    "])\n",
    "model.summary()"
   ]
  },
  {
   "cell_type": "code",
   "execution_count": 16,
   "metadata": {},
   "outputs": [
    {
     "name": "stdout",
     "output_type": "stream",
     "text": [
      "Train on 735 samples, validate on 82 samples\n",
      "Epoch 1/10\n",
      "735/735 [==============================] - 15s 21ms/sample - loss: 1.6031 - acc: 0.3728 - val_loss: 1.3531 - val_acc: 0.7073\n",
      "Epoch 2/10\n",
      "735/735 [==============================] - 13s 17ms/sample - loss: 0.9720 - acc: 0.7007 - val_loss: 0.7590 - val_acc: 0.8293\n",
      "Epoch 3/10\n",
      "735/735 [==============================] - 13s 17ms/sample - loss: 0.4164 - acc: 0.8993 - val_loss: 0.5332 - val_acc: 0.8171\n",
      "Epoch 4/10\n",
      "735/735 [==============================] - 13s 17ms/sample - loss: 0.2379 - acc: 0.9197 - val_loss: 0.4911 - val_acc: 0.8415\n",
      "Epoch 5/10\n",
      "735/735 [==============================] - 22s 29ms/sample - loss: 0.1882 - acc: 0.9224 - val_loss: 0.5603 - val_acc: 0.8293\n",
      "Epoch 6/10\n",
      "735/735 [==============================] - 13s 17ms/sample - loss: 0.1695 - acc: 0.9211 - val_loss: 0.5455 - val_acc: 0.8659\n",
      "Epoch 7/10\n",
      "735/735 [==============================] - 13s 17ms/sample - loss: 0.1544 - acc: 0.9252 - val_loss: 0.5361 - val_acc: 0.8415\n",
      "Epoch 8/10\n",
      "735/735 [==============================] - 12s 17ms/sample - loss: 0.1340 - acc: 0.9361 - val_loss: 0.6187 - val_acc: 0.8415\n",
      "Epoch 9/10\n",
      "735/735 [==============================] - 13s 17ms/sample - loss: 0.1259 - acc: 0.9361 - val_loss: 0.7588 - val_acc: 0.8415\n",
      "Epoch 10/10\n",
      "735/735 [==============================] - 12s 17ms/sample - loss: 0.1380 - acc: 0.9252 - val_loss: 0.5767 - val_acc: 0.8171\n"
     ]
    }
   ],
   "source": [
    "model.compile(loss='sparse_categorical_crossentropy', optimizer='RMSprop', metrics=['accuracy'])\n",
    "num_epochs = 10\n",
    "history = model.fit(X_train_padded, y_train, epochs=num_epochs,\n",
    "                    validation_split=0.1, verbose=1)"
   ]
  },
  {
   "cell_type": "code",
   "execution_count": 17,
   "metadata": {},
   "outputs": [
    {
     "name": "stdout",
     "output_type": "stream",
     "text": [
      "205/205 [==============================] - 0s 2ms/sample - loss: 0.6001 - acc: 0.8000\n"
     ]
    },
    {
     "data": {
      "text/plain": [
       "[0.6001159243467378, 0.8]"
      ]
     },
     "execution_count": 17,
     "metadata": {},
     "output_type": "execute_result"
    }
   ],
   "source": [
    "model.evaluate(X_test_padded, y_test)"
   ]
  },
  {
   "cell_type": "code",
   "execution_count": 18,
   "metadata": {},
   "outputs": [],
   "source": [
    "y_pred = model.predict_classes(X_test_padded)"
   ]
  },
  {
   "cell_type": "code",
   "execution_count": 19,
   "metadata": {},
   "outputs": [
    {
     "data": {
      "text/plain": [
       "0"
      ]
     },
     "execution_count": 19,
     "metadata": {},
     "output_type": "execute_result"
    }
   ],
   "source": [
    "y_pred[0]"
   ]
  },
  {
   "cell_type": "code",
   "execution_count": 20,
   "metadata": {},
   "outputs": [
    {
     "data": {
      "text/plain": [
       "array([3, 4, 2, 2, 4, 4, 2, 0, 1, 3, 0, 3, 2, 1, 0, 3, 2, 2, 2, 0, 1, 1,\n",
       "       3, 3, 0, 1, 1, 0, 2, 2, 4, 0, 3, 1, 2, 3, 4, 2, 0, 1, 1, 2, 2, 4,\n",
       "       2, 4, 4, 2, 2, 2, 3, 0, 3, 1, 3, 2, 0, 4, 4, 0, 1, 3, 4, 3, 2, 1,\n",
       "       0, 2, 3, 0, 2, 3, 3, 0, 1, 3, 2, 4, 2, 4, 3, 0, 1, 3, 1, 2, 1, 2,\n",
       "       1, 3, 1, 1, 1, 3, 0, 0, 2, 2, 1, 2, 3, 2, 2, 0, 3, 2, 3, 1, 2, 3,\n",
       "       1, 2, 1, 4, 2, 3, 0, 4, 4, 2, 4, 4, 0, 2, 2, 3, 4, 1, 4, 1, 0, 1,\n",
       "       0, 2, 2, 0, 4, 4, 3, 2, 0, 3, 2, 2, 0, 3, 4, 0, 3, 3, 3, 2, 3, 1,\n",
       "       3, 1, 1, 4, 0, 1, 2, 3, 3, 0, 2, 2, 3, 3, 1, 2, 3, 0, 1, 0, 2, 3,\n",
       "       1, 2, 4, 2, 2, 1, 3, 2, 1, 2, 2, 3, 2, 2, 3, 1, 4, 2, 1, 2, 3, 0,\n",
       "       3, 2, 3, 3, 1, 1, 2])"
      ]
     },
     "execution_count": 20,
     "metadata": {},
     "output_type": "execute_result"
    }
   ],
   "source": [
    "y_test"
   ]
  },
  {
   "cell_type": "code",
   "execution_count": 21,
   "metadata": {},
   "outputs": [
    {
     "name": "stdout",
     "output_type": "stream",
     "text": [
      "Accuracy: 0.8\n"
     ]
    }
   ],
   "source": [
    "from sklearn import metrics\n",
    "from sklearn.metrics import precision_score, recall_score, f1_score, classification_report, confusion_matrix\n",
    "print(\"Accuracy:\",metrics.accuracy_score(y_test, y_pred))"
   ]
  },
  {
   "cell_type": "code",
   "execution_count": 22,
   "metadata": {},
   "outputs": [
    {
     "name": "stdout",
     "output_type": "stream",
     "text": [
      "              precision    recall  f1-score   support\n",
      "\n",
      "           0       0.73      0.77      0.75        31\n",
      "           1       1.00      1.00      1.00        40\n",
      "           2       0.83      0.83      0.83        60\n",
      "           3       0.64      0.58      0.61        48\n",
      "           4       0.79      0.85      0.81        26\n",
      "\n",
      "    accuracy                           0.80       205\n",
      "   macro avg       0.80      0.81      0.80       205\n",
      "weighted avg       0.80      0.80      0.80       205\n",
      "\n"
     ]
    }
   ],
   "source": [
    "print(classification_report(y_test, y_pred))"
   ]
  },
  {
   "cell_type": "code",
   "execution_count": 23,
   "metadata": {},
   "outputs": [
    {
     "data": {
      "text/plain": [
       "array([[24,  0,  0,  3,  4],\n",
       "       [ 0, 40,  0,  0,  0],\n",
       "       [ 0,  0, 50, 10,  0],\n",
       "       [ 8,  0, 10, 28,  2],\n",
       "       [ 1,  0,  0,  3, 22]], dtype=int64)"
      ]
     },
     "execution_count": 23,
     "metadata": {},
     "output_type": "execute_result"
    }
   ],
   "source": [
    "confusion_matrix(y_test, y_pred)"
   ]
  },
  {
   "cell_type": "code",
   "execution_count": 24,
   "metadata": {},
   "outputs": [],
   "source": [
    "model.save('LSTMNotes.h5')"
   ]
  },
  {
   "cell_type": "code",
   "execution_count": 35,
   "metadata": {},
   "outputs": [],
   "source": [
    "import keras\n",
    "import h5py\n"
   ]
  },
  {
   "cell_type": "code",
   "execution_count": 37,
   "metadata": {},
   "outputs": [],
   "source": [
    "predictor = tf.keras.models.load_model('LSTMNotes.h5')"
   ]
  },
  {
   "cell_type": "code",
   "execution_count": 40,
   "metadata": {},
   "outputs": [],
   "source": [
    "y_predict1 = predictor.predict_classes(X_test_padded)"
   ]
  },
  {
   "cell_type": "code",
   "execution_count": 41,
   "metadata": {},
   "outputs": [
    {
     "name": "stdout",
     "output_type": "stream",
     "text": [
      "              precision    recall  f1-score   support\n",
      "\n",
      "           0       0.73      0.77      0.75        31\n",
      "           1       1.00      1.00      1.00        40\n",
      "           2       0.83      0.83      0.83        60\n",
      "           3       0.64      0.58      0.61        48\n",
      "           4       0.79      0.85      0.81        26\n",
      "\n",
      "    accuracy                           0.80       205\n",
      "   macro avg       0.80      0.81      0.80       205\n",
      "weighted avg       0.80      0.80      0.80       205\n",
      "\n"
     ]
    }
   ],
   "source": [
    "print(classification_report(y_test, y_predict1))"
   ]
  },
  {
   "cell_type": "code",
   "execution_count": 67,
   "metadata": {},
   "outputs": [
    {
     "data": {
      "text/html": [
       "<div>\n",
       "<style scoped>\n",
       "    .dataframe tbody tr th:only-of-type {\n",
       "        vertical-align: middle;\n",
       "    }\n",
       "\n",
       "    .dataframe tbody tr th {\n",
       "        vertical-align: top;\n",
       "    }\n",
       "\n",
       "    .dataframe thead th {\n",
       "        text-align: right;\n",
       "    }\n",
       "</style>\n",
       "<table border=\"1\" class=\"dataframe\">\n",
       "  <thead>\n",
       "    <tr style=\"text-align: right;\">\n",
       "      <th></th>\n",
       "      <th>keywords</th>\n",
       "      <th>Unnamed: 1</th>\n",
       "    </tr>\n",
       "  </thead>\n",
       "  <tbody>\n",
       "    <tr>\n",
       "      <th>0</th>\n",
       "      <td>retrograde pyelogram, ...</td>\n",
       "      <td>NaN</td>\n",
       "    </tr>\n",
       "    <tr>\n",
       "      <th>1</th>\n",
       "      <td>excisional debridement...</td>\n",
       "      <td>NaN</td>\n",
       "    </tr>\n",
       "    <tr>\n",
       "      <th>2</th>\n",
       "      <td>ankle sprain, foot inv...</td>\n",
       "      <td>NaN</td>\n",
       "    </tr>\n",
       "    <tr>\n",
       "      <th>3</th>\n",
       "      <td>confusion, gfap, gfap ...</td>\n",
       "      <td>NaN</td>\n",
       "    </tr>\n",
       "  </tbody>\n",
       "</table>\n",
       "</div>"
      ],
      "text/plain": [
       "                                            keywords  Unnamed: 1\n",
       "0                          retrograde pyelogram, ...         NaN\n",
       "1                          excisional debridement...         NaN\n",
       "2                          ankle sprain, foot inv...         NaN\n",
       "3                          confusion, gfap, gfap ...         NaN"
      ]
     },
     "execution_count": 67,
     "metadata": {},
     "output_type": "execute_result"
    }
   ],
   "source": [
    "from io import StringIO \n",
    "sample1 = StringIO(\"\"\"keywords;\n",
    "                        retrograde pyelogram, bladder biopsy, muscularis propria, bladder cancer, gross hematuria, bladder wall, ct scan, bladder, hematuria;\n",
    "                        excisional debridement, subcutaneous tissue, abdominal wall abscess, foreign body, abdominal abscess, bovie cautery, abdominal, i&d, wound, incision, abscess;\n",
    "                        ankle sprain, foot inverted, injury, x-ray, walking cast, ankle, sprain;\n",
    "                        confusion, gfap, gfap staining, mri scan, astrocytoma, hippocampus, memory loss, palpitation, signal, stroke, temporal lobe, tongue-biting, tonic/clonic movement, weakness, increased t signal, mri brain, mri, temporal;\n",
    "                    \n",
    "                    \"\"\")\n",
    "\n",
    "    #keywords labeled as \n",
    "    #1. urology(labeled as 4) \n",
    "    #2. gasternology(labeled as 0) \n",
    "    #3. orthopedic(labeled as 2)\n",
    "    #4. neurology (labeled as 3)\n",
    "    #first we need to preprocess the example. Store the input texts to a dataframe and preprocess\n",
    "\n",
    "predictDF = pd.read_csv(sample1, sep =\";\")\n",
    "predictDF"
   ]
  },
  {
   "cell_type": "code",
   "execution_count": 68,
   "metadata": {},
   "outputs": [
    {
     "data": {
      "text/html": [
       "<div>\n",
       "<style scoped>\n",
       "    .dataframe tbody tr th:only-of-type {\n",
       "        vertical-align: middle;\n",
       "    }\n",
       "\n",
       "    .dataframe tbody tr th {\n",
       "        vertical-align: top;\n",
       "    }\n",
       "\n",
       "    .dataframe thead th {\n",
       "        text-align: right;\n",
       "    }\n",
       "</style>\n",
       "<table border=\"1\" class=\"dataframe\">\n",
       "  <thead>\n",
       "    <tr style=\"text-align: right;\">\n",
       "      <th></th>\n",
       "      <th>keywords</th>\n",
       "      <th>Unnamed: 1</th>\n",
       "    </tr>\n",
       "  </thead>\n",
       "  <tbody>\n",
       "    <tr>\n",
       "      <th>0</th>\n",
       "      <td>retrograde pyelogram  ...</td>\n",
       "      <td>NaN</td>\n",
       "    </tr>\n",
       "    <tr>\n",
       "      <th>1</th>\n",
       "      <td>excisional debridement...</td>\n",
       "      <td>NaN</td>\n",
       "    </tr>\n",
       "    <tr>\n",
       "      <th>2</th>\n",
       "      <td>ankle sprain  foot inv...</td>\n",
       "      <td>NaN</td>\n",
       "    </tr>\n",
       "    <tr>\n",
       "      <th>3</th>\n",
       "      <td>confusion  gfap  gfap ...</td>\n",
       "      <td>NaN</td>\n",
       "    </tr>\n",
       "  </tbody>\n",
       "</table>\n",
       "</div>"
      ],
      "text/plain": [
       "                                            keywords  Unnamed: 1\n",
       "0                          retrograde pyelogram  ...         NaN\n",
       "1                          excisional debridement...         NaN\n",
       "2                          ankle sprain  foot inv...         NaN\n",
       "3                          confusion  gfap  gfap ...         NaN"
      ]
     },
     "execution_count": 68,
     "metadata": {},
     "output_type": "execute_result"
    }
   ],
   "source": [
    "import re\n",
    "REPLACE_BY_SPACE_RE = re.compile('[/(){}\\[\\]\\|@,;]')\n",
    "BAD_SYMBOLS_RE = re.compile('[^0-9a-z #+_]')\n",
    "SPACE_RE = re.compile(' ')\n",
    "def clean_text(text):\n",
    "    \"\"\"\n",
    "        text: a string\n",
    "        \n",
    "        return: modified initial string\n",
    "    \"\"\"\n",
    "    #text = BeautifulSoup(text, \"lxml\").text # HTML decoding\n",
    "    text = text.lower() # lowercase text\n",
    "    text = REPLACE_BY_SPACE_RE.sub(' ', text) # replace REPLACE_BY_SPACE_RE symbols by space in text\n",
    "    text = BAD_SYMBOLS_RE.sub('', text) # delete symbols which are in BAD_SYMBOLS_RE from text\n",
    "    text = SPACE_RE.sub(' ', text)\n",
    "    #text = ' '.join(word for word in text.split() if word not in STOPWORDS) # delete stopwors from text\n",
    "    return text\n",
    "\n",
    "predictDF['keywords'] = predictDF['keywords'].apply(clean_text)\n",
    "predictDF"
   ]
  },
  {
   "cell_type": "code",
   "execution_count": 69,
   "metadata": {},
   "outputs": [],
   "source": [
    "X_sample_seq = tokenizer.texts_to_sequences(predictDF.keywords.values)\n",
    "X_sample_padded = pad_sequences(X_sample_seq, maxlen=max_length, padding=padding_type, truncating=trunc_type)"
   ]
  },
  {
   "cell_type": "code",
   "execution_count": 70,
   "metadata": {},
   "outputs": [],
   "source": [
    "y_predict = predictor.predict_classes(X_sample_padded)"
   ]
  },
  {
   "cell_type": "code",
   "execution_count": 71,
   "metadata": {},
   "outputs": [
    {
     "data": {
      "text/plain": [
       "array([4, 0, 2, 3], dtype=int64)"
      ]
     },
     "execution_count": 71,
     "metadata": {},
     "output_type": "execute_result"
    }
   ],
   "source": [
    "y_predict"
   ]
  },
  {
   "cell_type": "code",
   "execution_count": 72,
   "metadata": {},
   "outputs": [],
   "source": [
    "#4 right 0 wrong"
   ]
  },
  {
   "cell_type": "code",
   "execution_count": 73,
   "metadata": {},
   "outputs": [
    {
     "name": "stdout",
     "output_type": "stream",
     "text": [
      "              precision    recall  f1-score   support\n",
      "\n",
      "           0       0.73      0.77      0.75        31\n",
      "           1       1.00      1.00      1.00        40\n",
      "           2       0.83      0.83      0.83        60\n",
      "           3       0.64      0.58      0.61        48\n",
      "           4       0.79      0.85      0.81        26\n",
      "\n",
      "    accuracy                           0.80       205\n",
      "   macro avg       0.80      0.81      0.80       205\n",
      "weighted avg       0.80      0.80      0.80       205\n",
      "\n"
     ]
    }
   ],
   "source": [
    "print(classification_report(y_test, y_predict1))"
   ]
  },
  {
   "cell_type": "code",
   "execution_count": 76,
   "metadata": {},
   "outputs": [
    {
     "data": {
      "image/png": "[encoded data removed]",
      "text/plain": [
       "<Figure size 720x86.4 with 1 Axes>"
      ]
     },
     "metadata": {
      "needs_background": "light"
     },
     "output_type": "display_data"
    }
   ],
   "source": [
    "import matplotlib.pyplot as plt\n",
    "label = ['Gastroenterology', 'Neurology', 'Orthopedic', 'Radiology',\n",
    "       'Urology']\n",
    "# Create bars\n",
    "barWidth = 2\n",
    "bars1 = [0.73, 1.0, 0.83, 0.64, 0.79]\n",
    "bars2 = [0.77, 1.0, 0.83, 0.58 ,0.85]\n",
    "bars3 = [0.75 , 1.0, 0.83, 0.61, 0.81]\n",
    "bars4 = bars1 + bars2 + bars3\n",
    " \n",
    "# The X position of bars\n",
    "r1 = [1,8,15, 22, 29]\n",
    "r2 = [3,10,17, 24, 31]\n",
    "r3 = [5,12,19,26,33]\n",
    "r4 = r1 + r2 + r3\n",
    " \n",
    "plt.figure(figsize=(10, 1.2))\n",
    "# Create barplot\n",
    "plt.bar(r1, bars1, width = barWidth, color = 'slategrey', label='Precision')\n",
    "plt.bar(r2, bars2, width = barWidth, color = 'lightsteelblue', label='Recall')\n",
    "plt.bar(r3, bars3, width = barWidth, color = 'gainsboro', label='F1-score')\n",
    "# Note: the barplot could be created easily. See the barplot section for other examples.\n",
    " \n",
    "# Create legend\n",
    "plt.legend()\n",
    "plt.xlabel('Medical specialty', fontsize=12)\n",
    "plt.ylabel('precision/recall/f1', fontsize=12)\n",
    " \n",
    "# Text below each barplot with a rotation at 90°\n",
    "#plt.xticks([r + barWidth for r in range(len(r4)/3)], ['DD', 'with himself', 'with DC', 'with Silur', 'DC'], rotation=90)\n",
    " \n",
    "# Create labels\n",
    "labels = bars4\n",
    " \n",
    "# Text on the top of each barplot\n",
    "for i in range(len(r4)):\n",
    "    plt.text(x = r4[i]-0.9 , y = bars4[i]+0.02, s = labels[i], size = 12, rotation = 0)\n",
    " \n",
    "# Adjust the margins\n",
    "plt.subplots_adjust(bottom=1, top = 5.6)\n",
    "#X = np.arange(15)\n",
    "plt.title('Specialty-wise performance for the best deep learning model')\n",
    "plt.xticks([2.75, 9.75, 16.75, 23.75, 30.75], label, fontsize=12, rotation=30)\n",
    "# Show graphic\n",
    "plt.show()"
   ]
  },
  {
   "cell_type": "code",
   "execution_count": null,
   "metadata": {},
   "outputs": [],
   "source": []
  }
 ],
 "metadata": {
  "kernelspec": {
   "display_name": "Python 3",
   "language": "python",
   "name": "python3"
  },
  "language_info": {
   "codemirror_mode": {
    "name": "ipython",
    "version": 3
   },
   "file_extension": ".py",
   "mimetype": "text/x-python",
   "name": "python",
   "nbconvert_exporter": "python",
   "pygments_lexer": "ipython3",
   "version": "3.7.3"
  }
 },
 "nbformat": 4,
 "nbformat_minor": 2
}
