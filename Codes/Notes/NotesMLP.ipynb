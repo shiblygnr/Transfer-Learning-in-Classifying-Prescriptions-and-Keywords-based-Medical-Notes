{
 "cells": [
  {
   "cell_type": "code",
   "execution_count": 17,
   "metadata": {},
   "outputs": [],
   "source": [
    "import os\n",
    "\n",
    "#%matplotlib inline\n",
    "#import matplotlib.pyplot as plt\n",
    "import numpy as np\n",
    "import pandas as pd\n",
    "import tensorflow as tf\n",
    "\n",
    "from sklearn.preprocessing import LabelBinarizer, LabelEncoder\n",
    "from sklearn.metrics import confusion_matrix\n",
    "\n",
    "from tensorflow import keras\n",
    "from keras.models import Sequential\n",
    "from keras.layers import Dense, Activation, Dropout\n",
    "from keras.preprocessing import text, sequence\n",
    "from keras import utils"
   ]
  },
  {
   "cell_type": "code",
   "execution_count": 18,
   "metadata": {},
   "outputs": [
    {
     "data": {
      "text/html": [
       "<div>\n",
       "<style scoped>\n",
       "    .dataframe tbody tr th:only-of-type {\n",
       "        vertical-align: middle;\n",
       "    }\n",
       "\n",
       "    .dataframe tbody tr th {\n",
       "        vertical-align: top;\n",
       "    }\n",
       "\n",
       "    .dataframe thead th {\n",
       "        text-align: right;\n",
       "    }\n",
       "</style>\n",
       "<table border=\"1\" class=\"dataframe\">\n",
       "  <thead>\n",
       "    <tr style=\"text-align: right;\">\n",
       "      <th></th>\n",
       "      <th>keywords</th>\n",
       "      <th>label</th>\n",
       "    </tr>\n",
       "  </thead>\n",
       "  <tbody>\n",
       "    <tr>\n",
       "      <th>0</th>\n",
       "      <td>sterilization  vas  fertile male  bilateral ...</td>\n",
       "      <td>urology</td>\n",
       "    </tr>\n",
       "    <tr>\n",
       "      <th>1</th>\n",
       "      <td>prostate cancer  technetium  whole body  uri...</td>\n",
       "      <td>urology</td>\n",
       "    </tr>\n",
       "    <tr>\n",
       "      <th>2</th>\n",
       "      <td>vasectomy  allis clamp  catgut  hemoclips  i...</td>\n",
       "      <td>urology</td>\n",
       "    </tr>\n",
       "    <tr>\n",
       "      <th>3</th>\n",
       "      <td>hemiscrotum  bilateral vasectomy  voluntary ...</td>\n",
       "      <td>urology</td>\n",
       "    </tr>\n",
       "    <tr>\n",
       "      <th>4</th>\n",
       "      <td>scrotal incision  right vas  bleeding  anest...</td>\n",
       "      <td>urology</td>\n",
       "    </tr>\n",
       "  </tbody>\n",
       "</table>\n",
       "</div>"
      ],
      "text/plain": [
       "                                            keywords    label\n",
       "0    sterilization  vas  fertile male  bilateral ...  urology\n",
       "1    prostate cancer  technetium  whole body  uri...  urology\n",
       "2    vasectomy  allis clamp  catgut  hemoclips  i...  urology\n",
       "3    hemiscrotum  bilateral vasectomy  voluntary ...  urology\n",
       "4    scrotal incision  right vas  bleeding  anest...  urology"
      ]
     },
     "execution_count": 18,
     "metadata": {},
     "output_type": "execute_result"
    }
   ],
   "source": [
    "df = pd.read_csv('cleaned.csv')\n",
    "df.head()"
   ]
  },
  {
   "cell_type": "code",
   "execution_count": 19,
   "metadata": {},
   "outputs": [],
   "source": [
    "X = df.keywords.values\n",
    "Y = df.label.values"
   ]
  },
  {
   "cell_type": "code",
   "execution_count": 20,
   "metadata": {},
   "outputs": [],
   "source": [
    "from sklearn.model_selection import train_test_split\n",
    "X_train, x_test, Y_train, y_test = train_test_split(X, Y, test_size = 0.2, random_state = 50)"
   ]
  },
  {
   "cell_type": "code",
   "execution_count": 21,
   "metadata": {},
   "outputs": [],
   "source": [
    "max_words = 3500\n",
    "tokenize = text.Tokenizer(num_words=max_words, char_level=False)\n",
    "tokenize.fit_on_texts(X_train)"
   ]
  },
  {
   "cell_type": "code",
   "execution_count": 22,
   "metadata": {},
   "outputs": [],
   "source": [
    "X_train = tokenize.texts_to_matrix(X_train)\n",
    "x_test = tokenize.texts_to_matrix(x_test)"
   ]
  },
  {
   "cell_type": "code",
   "execution_count": 23,
   "metadata": {},
   "outputs": [
    {
     "data": {
      "text/plain": [
       "LabelEncoder()"
      ]
     },
     "execution_count": 23,
     "metadata": {},
     "output_type": "execute_result"
    }
   ],
   "source": [
    "encoder = LabelEncoder()\n",
    "encoder.fit(Y)"
   ]
  },
  {
   "cell_type": "code",
   "execution_count": 24,
   "metadata": {},
   "outputs": [],
   "source": [
    "Y = encoder.transform(Y)"
   ]
  },
  {
   "cell_type": "code",
   "execution_count": 25,
   "metadata": {},
   "outputs": [],
   "source": [
    "Y_train = encoder.transform(Y_train)\n",
    "y_test = encoder.transform(y_test)"
   ]
  },
  {
   "cell_type": "code",
   "execution_count": 26,
   "metadata": {},
   "outputs": [
    {
     "data": {
      "text/plain": [
       "array(['gastroenterology', 'neurology', 'orthopedic', 'radiology',\n",
       "       'urology'], dtype=object)"
      ]
     },
     "execution_count": 26,
     "metadata": {},
     "output_type": "execute_result"
    }
   ],
   "source": [
    "encoder.inverse_transform([0,1,2,3,4])"
   ]
  },
  {
   "cell_type": "code",
   "execution_count": 27,
   "metadata": {},
   "outputs": [],
   "source": [
    "batch_size = 32\n",
    "epochs = 10"
   ]
  },
  {
   "cell_type": "code",
   "execution_count": 28,
   "metadata": {},
   "outputs": [
    {
     "name": "stdout",
     "output_type": "stream",
     "text": [
      "Model: \"sequential_2\"\n",
      "_________________________________________________________________\n",
      "Layer (type)                 Output Shape              Param #   \n",
      "=================================================================\n",
      "dense_3 (Dense)              (None, 512)               1792512   \n",
      "_________________________________________________________________\n",
      "activation_3 (Activation)    (None, 512)               0         \n",
      "_________________________________________________________________\n",
      "dense_4 (Dense)              (None, 5)                 2565      \n",
      "_________________________________________________________________\n",
      "activation_4 (Activation)    (None, 5)                 0         \n",
      "=================================================================\n",
      "Total params: 1,795,077\n",
      "Trainable params: 1,795,077\n",
      "Non-trainable params: 0\n",
      "_________________________________________________________________\n"
     ]
    }
   ],
   "source": [
    "model = Sequential()\n",
    "model.add(Dense(512, input_shape=(max_words,)))\n",
    "model.add(Activation('relu'))\n",
    "#model.add(Dropout(0.5))\n",
    "model.add(Dense(5))\n",
    "model.add(Activation('softmax'))\n",
    "\n",
    "model.summary()"
   ]
  },
  {
   "cell_type": "code",
   "execution_count": 29,
   "metadata": {},
   "outputs": [
    {
     "name": "stdout",
     "output_type": "stream",
     "text": [
      "Train on 735 samples, validate on 82 samples\n",
      "Epoch 1/10\n",
      "735/735 [==============================] - 1s 1ms/step - loss: 1.3774 - accuracy: 0.5714 - val_loss: 1.0544 - val_accuracy: 0.6585\n",
      "Epoch 2/10\n",
      "735/735 [==============================] - 1s 1ms/step - loss: 0.6587 - accuracy: 0.8571 - val_loss: 0.7462 - val_accuracy: 0.7683\n",
      "Epoch 3/10\n",
      "735/735 [==============================] - 1s 1ms/step - loss: 0.3295 - accuracy: 0.9088 - val_loss: 0.6968 - val_accuracy: 0.7439\n",
      "Epoch 4/10\n",
      "735/735 [==============================] - 1s 1ms/step - loss: 0.2117 - accuracy: 0.9293 - val_loss: 0.7291 - val_accuracy: 0.7561\n",
      "Epoch 5/10\n",
      "735/735 [==============================] - 1s 1ms/step - loss: 0.1589 - accuracy: 0.9333 - val_loss: 0.7920 - val_accuracy: 0.7439\n",
      "Epoch 6/10\n",
      "735/735 [==============================] - 1s 1ms/step - loss: 0.1442 - accuracy: 0.9279 - val_loss: 0.8538 - val_accuracy: 0.7561\n",
      "Epoch 7/10\n",
      "735/735 [==============================] - 1s 1ms/step - loss: 0.1301 - accuracy: 0.9320 - val_loss: 0.8656 - val_accuracy: 0.7561\n",
      "Epoch 8/10\n",
      "735/735 [==============================] - 1s 1ms/step - loss: 0.1224 - accuracy: 0.9333 - val_loss: 0.8405 - val_accuracy: 0.7561\n",
      "Epoch 9/10\n",
      "735/735 [==============================] - 1s 1ms/step - loss: 0.1203 - accuracy: 0.9333 - val_loss: 0.8926 - val_accuracy: 0.7439\n",
      "Epoch 10/10\n",
      "735/735 [==============================] - 1s 999us/step - loss: 0.1138 - accuracy: 0.9320 - val_loss: 0.9173 - val_accuracy: 0.7805\n"
     ]
    }
   ],
   "source": [
    "import keras\n",
    "#import keras_metrics\n",
    "model.compile(loss='sparse_categorical_crossentropy',\n",
    "              optimizer='adam',\n",
    "              metrics=['accuracy'])\n",
    "              \n",
    "history = model.fit(X_train, Y_train,\n",
    "                    batch_size=batch_size,\n",
    "                    epochs=10,\n",
    "                    verbose=1,\n",
    "                    validation_split=0.1,\n",
    "                   shuffle = True)"
   ]
  },
  {
   "cell_type": "code",
   "execution_count": 30,
   "metadata": {},
   "outputs": [
    {
     "name": "stdout",
     "output_type": "stream",
     "text": [
      "205/205 [==============================] - 0s 76us/step\n"
     ]
    },
    {
     "data": {
      "text/plain": [
       "0.7658536434173584"
      ]
     },
     "execution_count": 30,
     "metadata": {},
     "output_type": "execute_result"
    }
   ],
   "source": [
    "_, test_acc = model.evaluate(x_test, y_test)\n",
    "test_acc"
   ]
  },
  {
   "cell_type": "code",
   "execution_count": 31,
   "metadata": {},
   "outputs": [],
   "source": [
    "y_pred = model.predict_classes(x_test)"
   ]
  },
  {
   "cell_type": "code",
   "execution_count": 17,
   "metadata": {},
   "outputs": [
    {
     "data": {
      "text/plain": [
       "array([2, 1, 4, 2, 0, 2, 0, 4, 0, 4, 2, 2, 3, 3, 2, 0, 2, 0, 3, 2, 3, 0,\n",
       "       2, 1, 2, 2, 2, 3, 3, 2, 0, 3, 3, 3, 2, 2, 2, 1, 1, 2, 3, 0, 0, 0,\n",
       "       0, 3, 3, 2, 3, 1, 2, 3, 4, 3, 1, 3, 1, 2, 2, 2, 4, 0, 1, 3, 3, 3,\n",
       "       1, 2, 2, 2, 2, 4, 0, 2, 1, 0, 2, 0, 3, 2, 4, 3, 4, 0, 0, 1, 2, 4,\n",
       "       2, 3, 2, 1, 2, 1, 4, 3, 2, 2, 3, 3, 4, 1, 0, 3, 2, 2, 2, 1, 0, 1,\n",
       "       2, 2, 0, 3, 2, 3, 0, 2, 4, 0, 2, 3, 3, 2, 1, 1, 2, 2, 1, 0, 0, 2,\n",
       "       0, 1, 3, 0, 1, 0, 1, 2, 2, 4, 4, 4, 0, 3, 4, 4, 2, 4, 3, 2, 3, 0,\n",
       "       2, 4, 4, 2, 2, 1, 0, 1, 2, 0, 4, 1, 0, 2, 3, 3, 0, 4, 1, 0, 0, 2,\n",
       "       4, 3, 2, 2, 1, 3, 0, 4, 3, 0, 3, 3, 2, 4, 1, 0, 2, 3, 4, 0, 4, 3,\n",
       "       2, 3, 3, 0, 1, 2, 2])"
      ]
     },
     "execution_count": 17,
     "metadata": {},
     "output_type": "execute_result"
    }
   ],
   "source": [
    "y_test"
   ]
  },
  {
   "cell_type": "code",
   "execution_count": 32,
   "metadata": {},
   "outputs": [
    {
     "name": "stdout",
     "output_type": "stream",
     "text": [
      "Accuracy: 0.7658536585365854\n"
     ]
    }
   ],
   "source": [
    "from sklearn import metrics\n",
    "from sklearn.metrics import precision_score, recall_score, f1_score, classification_report, confusion_matrix\n",
    "print(\"Accuracy:\",metrics.accuracy_score(y_test, y_pred))"
   ]
  },
  {
   "cell_type": "code",
   "execution_count": 33,
   "metadata": {},
   "outputs": [
    {
     "name": "stdout",
     "output_type": "stream",
     "text": [
      "              precision    recall  f1-score   support\n",
      "\n",
      "           0       0.85      0.88      0.86        40\n",
      "           1       0.69      0.83      0.75        29\n",
      "           2       0.82      0.80      0.81        64\n",
      "           3       0.54      0.49      0.51        45\n",
      "           4       0.96      0.93      0.94        27\n",
      "\n",
      "    accuracy                           0.77       205\n",
      "   macro avg       0.77      0.78      0.78       205\n",
      "weighted avg       0.76      0.77      0.76       205\n",
      "\n"
     ]
    }
   ],
   "source": [
    "print(classification_report(y_test, y_pred))"
   ]
  },
  {
   "cell_type": "code",
   "execution_count": 34,
   "metadata": {},
   "outputs": [
    {
     "data": {
      "text/plain": [
       "array([[35,  0,  0,  4,  1],\n",
       "       [ 0, 24,  2,  3,  0],\n",
       "       [ 0,  2, 51, 11,  0],\n",
       "       [ 6,  9,  8, 22,  0],\n",
       "       [ 0,  0,  1,  1, 25]], dtype=int64)"
      ]
     },
     "execution_count": 34,
     "metadata": {},
     "output_type": "execute_result"
    }
   ],
   "source": [
    "confusion_matrix(y_test, y_pred)"
   ]
  },
  {
   "cell_type": "code",
   "execution_count": 37,
   "metadata": {},
   "outputs": [],
   "source": [
    "model.save('MLPNotes.h5')"
   ]
  },
  {
   "cell_type": "code",
   "execution_count": 39,
   "metadata": {},
   "outputs": [],
   "source": [
    "from keras.models import load_model\n",
    "predictor = load_model('MLPNotes.h5')"
   ]
  },
  {
   "cell_type": "code",
   "execution_count": 49,
   "metadata": {},
   "outputs": [
    {
     "data": {
      "text/html": [
       "<div>\n",
       "<style scoped>\n",
       "    .dataframe tbody tr th:only-of-type {\n",
       "        vertical-align: middle;\n",
       "    }\n",
       "\n",
       "    .dataframe tbody tr th {\n",
       "        vertical-align: top;\n",
       "    }\n",
       "\n",
       "    .dataframe thead th {\n",
       "        text-align: right;\n",
       "    }\n",
       "</style>\n",
       "<table border=\"1\" class=\"dataframe\">\n",
       "  <thead>\n",
       "    <tr style=\"text-align: right;\">\n",
       "      <th></th>\n",
       "      <th>keywords</th>\n",
       "      <th>Unnamed: 1</th>\n",
       "    </tr>\n",
       "  </thead>\n",
       "  <tbody>\n",
       "    <tr>\n",
       "      <th>0</th>\n",
       "      <td>pyeloplasty, ureteral sten...</td>\n",
       "      <td>NaN</td>\n",
       "    </tr>\n",
       "    <tr>\n",
       "      <th>1</th>\n",
       "      <td>fascial defect, umbilical ...</td>\n",
       "      <td>NaN</td>\n",
       "    </tr>\n",
       "    <tr>\n",
       "      <th>2</th>\n",
       "      <td>origin of stalk, extensor ...</td>\n",
       "      <td>NaN</td>\n",
       "    </tr>\n",
       "    <tr>\n",
       "      <th>3</th>\n",
       "      <td>referential electrodes, sc...</td>\n",
       "      <td>NaN</td>\n",
       "    </tr>\n",
       "  </tbody>\n",
       "</table>\n",
       "</div>"
      ],
      "text/plain": [
       "                                            keywords  Unnamed: 1\n",
       "0                      pyeloplasty, ureteral sten...         NaN\n",
       "1                      fascial defect, umbilical ...         NaN\n",
       "2                      origin of stalk, extensor ...         NaN\n",
       "3                      referential electrodes, sc...         NaN"
      ]
     },
     "execution_count": 49,
     "metadata": {},
     "output_type": "execute_result"
    }
   ],
   "source": [
    "from io import StringIO \n",
    "sample1 = StringIO(\"\"\"keywords;\n",
    "                    pyeloplasty, ureteral stent placement, nephrolithotomy, ureteropelvic junction obstruction, jackson-pratt drain, foley catheter, renal pelvis, kidney stones, monocryl sutures, pelvis, renal, ureteropelvic, sutures;\n",
    "                    fascial defect, umbilical hernia repair, curvilinear umbilical, hernia sac, metzenbaum scissors, umbilical hernia, bovie electrocautery, electrocautery, hernia, incision, umbilical;\n",
    "                    origin of stalk, extensor retinaculum, wrist ganglion, incision, excision, dorsal, tourniquet, wrist, ganglion;\n",
    "                    referential electrodes, scalp, hyperventilation, photic stimulation, electroencephalogram;\n",
    "                    \"\"\")\n",
    "\n",
    "    #keywords labeled as \n",
    "    #1. urology(labeled as 4) \n",
    "    #2. gasternology(labeled as 0) \n",
    "    #3. orthopedic(labeled as 2)\n",
    "    #4. neurology (labeled as 1)\n",
    "    #first we need to preprocess the example. Store the input texts to a dataframe and preprocess\n",
    "\n",
    "predictDF = pd.read_csv(sample1, sep =\";\")\n",
    "predictDF"
   ]
  },
  {
   "cell_type": "code",
   "execution_count": 50,
   "metadata": {},
   "outputs": [
    {
     "data": {
      "text/html": [
       "<div>\n",
       "<style scoped>\n",
       "    .dataframe tbody tr th:only-of-type {\n",
       "        vertical-align: middle;\n",
       "    }\n",
       "\n",
       "    .dataframe tbody tr th {\n",
       "        vertical-align: top;\n",
       "    }\n",
       "\n",
       "    .dataframe thead th {\n",
       "        text-align: right;\n",
       "    }\n",
       "</style>\n",
       "<table border=\"1\" class=\"dataframe\">\n",
       "  <thead>\n",
       "    <tr style=\"text-align: right;\">\n",
       "      <th></th>\n",
       "      <th>keywords</th>\n",
       "      <th>Unnamed: 1</th>\n",
       "    </tr>\n",
       "  </thead>\n",
       "  <tbody>\n",
       "    <tr>\n",
       "      <th>0</th>\n",
       "      <td>pyeloplasty  ureteral sten...</td>\n",
       "      <td>NaN</td>\n",
       "    </tr>\n",
       "    <tr>\n",
       "      <th>1</th>\n",
       "      <td>fascial defect  umbilical ...</td>\n",
       "      <td>NaN</td>\n",
       "    </tr>\n",
       "    <tr>\n",
       "      <th>2</th>\n",
       "      <td>origin of stalk  extensor ...</td>\n",
       "      <td>NaN</td>\n",
       "    </tr>\n",
       "    <tr>\n",
       "      <th>3</th>\n",
       "      <td>referential electrodes  sc...</td>\n",
       "      <td>NaN</td>\n",
       "    </tr>\n",
       "  </tbody>\n",
       "</table>\n",
       "</div>"
      ],
      "text/plain": [
       "                                            keywords  Unnamed: 1\n",
       "0                      pyeloplasty  ureteral sten...         NaN\n",
       "1                      fascial defect  umbilical ...         NaN\n",
       "2                      origin of stalk  extensor ...         NaN\n",
       "3                      referential electrodes  sc...         NaN"
      ]
     },
     "execution_count": 50,
     "metadata": {},
     "output_type": "execute_result"
    }
   ],
   "source": [
    "import re\n",
    "REPLACE_BY_SPACE_RE = re.compile('[/(){}\\[\\]\\|@,;]')\n",
    "BAD_SYMBOLS_RE = re.compile('[^0-9a-z #+_]')\n",
    "SPACE_RE = re.compile(' ')\n",
    "def clean_text(text):\n",
    "    \"\"\"\n",
    "        text: a string\n",
    "        \n",
    "        return: modified initial string\n",
    "    \"\"\"\n",
    "    #text = BeautifulSoup(text, \"lxml\").text # HTML decoding\n",
    "    text = text.lower() # lowercase text\n",
    "    text = REPLACE_BY_SPACE_RE.sub(' ', text) # replace REPLACE_BY_SPACE_RE symbols by space in text\n",
    "    text = BAD_SYMBOLS_RE.sub('', text) # delete symbols which are in BAD_SYMBOLS_RE from text\n",
    "    text = SPACE_RE.sub(' ', text)\n",
    "    #text = ' '.join(word for word in text.split() if word not in STOPWORDS) # delete stopwors from text\n",
    "    return text\n",
    "\n",
    "predictDF['keywords'] = predictDF['keywords'].apply(clean_text)\n",
    "predictDF"
   ]
  },
  {
   "cell_type": "code",
   "execution_count": 51,
   "metadata": {},
   "outputs": [
    {
     "data": {
      "text/plain": [
       "array([[0., 0., 0., ..., 0., 0., 0.],\n",
       "       [0., 0., 0., ..., 0., 0., 0.],\n",
       "       [0., 1., 0., ..., 0., 0., 0.],\n",
       "       [0., 0., 0., ..., 0., 0., 0.]])"
      ]
     },
     "execution_count": 51,
     "metadata": {},
     "output_type": "execute_result"
    }
   ],
   "source": [
    "X_sample1 = tokenize.texts_to_matrix(predictDF.keywords)\n",
    "X_sample1"
   ]
  },
  {
   "cell_type": "code",
   "execution_count": 52,
   "metadata": {},
   "outputs": [
    {
     "data": {
      "text/plain": [
       "array([4, 4, 2, 1], dtype=int64)"
      ]
     },
     "execution_count": 52,
     "metadata": {},
     "output_type": "execute_result"
    }
   ],
   "source": [
    "y_predict = predictor.predict_classes(X_sample1)\n",
    "y_predict"
   ]
  },
  {
   "cell_type": "code",
   "execution_count": null,
   "metadata": {},
   "outputs": [],
   "source": [
    "#3 right 1 wrong(gastreonology)"
   ]
  },
  {
   "cell_type": "code",
   "execution_count": 43,
   "metadata": {},
   "outputs": [],
   "source": [
    "y_predict1 = predictor.predict_classes(x_test)"
   ]
  },
  {
   "cell_type": "code",
   "execution_count": 44,
   "metadata": {},
   "outputs": [
    {
     "name": "stdout",
     "output_type": "stream",
     "text": [
      "              precision    recall  f1-score   support\n",
      "\n",
      "           0       0.85      0.88      0.86        40\n",
      "           1       0.69      0.83      0.75        29\n",
      "           2       0.82      0.80      0.81        64\n",
      "           3       0.54      0.49      0.51        45\n",
      "           4       0.96      0.93      0.94        27\n",
      "\n",
      "    accuracy                           0.77       205\n",
      "   macro avg       0.77      0.78      0.78       205\n",
      "weighted avg       0.76      0.77      0.76       205\n",
      "\n"
     ]
    }
   ],
   "source": [
    "print(classification_report(y_test, y_predict1))"
   ]
  },
  {
   "cell_type": "code",
   "execution_count": null,
   "metadata": {},
   "outputs": [],
   "source": [
    "import matplotlib.pyplot as plt\n",
    " \n",
    "# Create bars\n",
    "barWidth = 2\n",
    "bars1 = [0.86, 1, 0.67, 0.65, 0.80]\n",
    "bars2 = [0.76, 0.96, 0.81, 0.57 ,0.80 ]\n",
    "bars3 = [0.81 , 0.98, 0.73, 0.61, 0.80]\n",
    "bars4 = bars1 + bars2 + bars3\n",
    " \n",
    "# The X position of bars\n",
    "r1 = [1,8,15, 22, 29]\n",
    "r2 = [3,10,17, 24, 31]\n",
    "r3 = [5,12,19,26,33]\n",
    "r4 = r1 + r2 + r3\n",
    " \n",
    "plt.figure(figsize=(9, 5))\n",
    "# Create barplot\n",
    "plt.bar(r1, bars1, width = barWidth, color = (0.3,0.1,0.4,0.6), label='Precision')\n",
    "plt.bar(r2, bars2, width = barWidth, color = (0.3,0.5,0.4,0.6), label='Recall')\n",
    "plt.bar(r3, bars3, width = barWidth, color = (0.3,0.9,0.4,0.6), label='F1-score')\n",
    "# Note: the barplot could be created easily. See the barplot section for other examples.\n",
    " \n",
    "# Create legend\n",
    "plt.legend()\n",
    "plt.xlabel('Medical specialty', fontsize=10)\n",
    "plt.ylabel('precision/recall/f1', fontsize=10)\n",
    " \n",
    "# Text below each barplot with a rotation at 90°\n",
    "#plt.xticks([r + barWidth for r in range(len(r4)/3)], ['DD', 'with himself', 'with DC', 'with Silur', 'DC'], rotation=90)\n",
    " \n",
    "# Create labels\n",
    "labels = bars4\n",
    " \n",
    "# Text on the top of each barplot\n",
    "for i in range(len(r4)):\n",
    "    plt.text(x = r4[i]-0.5 , y = bars4[i]+0.02, s = labels[i], size = 10, rotation = 90)\n",
    " \n",
    "# Adjust the margins\n",
    "plt.subplots_adjust(bottom=0.25, top = 1.4)\n",
    "#X = np.arange(15)\n",
    "plt.xticks([2.75, 9.75, 16.75, 23.75, 30.75], label, fontsize=10, rotation=45)\n",
    "# Show graphic\n",
    "plt.show()"
   ]
  }
 ],
 "metadata": {
  "kernelspec": {
   "display_name": "Python 3",
   "language": "python",
   "name": "python3"
  },
  "language_info": {
   "codemirror_mode": {
    "name": "ipython",
    "version": 3
   },
   "file_extension": ".py",
   "mimetype": "text/x-python",
   "name": "python",
   "nbconvert_exporter": "python",
   "pygments_lexer": "ipython3",
   "version": "3.7.3"
  }
 },
 "nbformat": 4,
 "nbformat_minor": 2
}
