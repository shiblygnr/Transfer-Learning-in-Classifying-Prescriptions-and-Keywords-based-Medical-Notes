{
 "cells": [
  {
   "cell_type": "code",
   "execution_count": 1,
   "metadata": {},
   "outputs": [],
   "source": [
    "from sklearn.tree import DecisionTreeClassifier \n",
    "from sklearn.model_selection import train_test_split \n",
    "from sklearn import metrics "
   ]
  },
  {
   "cell_type": "code",
   "execution_count": 2,
   "metadata": {},
   "outputs": [],
   "source": [
    "import pandas as pd"
   ]
  },
  {
   "cell_type": "code",
   "execution_count": 3,
   "metadata": {},
   "outputs": [],
   "source": [
    "df = pd.read_csv('EP1.csv')"
   ]
  },
  {
   "cell_type": "code",
   "execution_count": 4,
   "metadata": {},
   "outputs": [
    {
     "data": {
      "text/plain": [
       "array(['gastroenterology', 'hematologyoncology', 'generalpractice',\n",
       "       'cardiovasculardisease', 'neurology', 'psychiatry', 'nephrology'],\n",
       "      dtype=object)"
      ]
     },
     "execution_count": 4,
     "metadata": {},
     "output_type": "execute_result"
    }
   ],
   "source": [
    "df.specialty.unique()"
   ]
  },
  {
   "cell_type": "code",
   "execution_count": 5,
   "metadata": {},
   "outputs": [],
   "source": [
    "df = df.sample(frac=1)"
   ]
  },
  {
   "cell_type": "code",
   "execution_count": 6,
   "metadata": {},
   "outputs": [],
   "source": [
    "X = df.prescription.values\n",
    "y = df.specialty.values"
   ]
  },
  {
   "cell_type": "code",
   "execution_count": 7,
   "metadata": {},
   "outputs": [],
   "source": [
    "X_train, X_test, y_train, y_test = train_test_split(X, y, test_size = 0.2, random_state = 50)"
   ]
  },
  {
   "cell_type": "code",
   "execution_count": 8,
   "metadata": {},
   "outputs": [
    {
     "name": "stderr",
     "output_type": "stream",
     "text": [
      "Using TensorFlow backend.\n"
     ]
    }
   ],
   "source": [
    "from keras.preprocessing import text, sequence\n"
   ]
  },
  {
   "cell_type": "code",
   "execution_count": 9,
   "metadata": {},
   "outputs": [],
   "source": [
    "tokenize = text.Tokenizer(num_words=1000, char_level=False)"
   ]
  },
  {
   "cell_type": "code",
   "execution_count": 10,
   "metadata": {},
   "outputs": [],
   "source": [
    "tokenize.fit_on_texts(X_train)"
   ]
  },
  {
   "cell_type": "code",
   "execution_count": 11,
   "metadata": {},
   "outputs": [
    {
     "data": {
      "text/plain": [
       "1046"
      ]
     },
     "execution_count": 11,
     "metadata": {},
     "output_type": "execute_result"
    }
   ],
   "source": [
    "len(tokenize.word_index)"
   ]
  },
  {
   "cell_type": "code",
   "execution_count": 12,
   "metadata": {},
   "outputs": [],
   "source": [
    "X_train = tokenize.texts_to_matrix(X_train)"
   ]
  },
  {
   "cell_type": "code",
   "execution_count": 13,
   "metadata": {},
   "outputs": [],
   "source": [
    "X_test = tokenize.texts_to_matrix(X_test)"
   ]
  },
  {
   "cell_type": "code",
   "execution_count": 14,
   "metadata": {},
   "outputs": [],
   "source": [
    "from sklearn.preprocessing import LabelBinarizer, LabelEncoder\n",
    "encoder = LabelEncoder()\n",
    "encoder.fit(y)\n",
    "y_train = encoder.transform(y_train)\n",
    "y_test = encoder.transform(y_test)"
   ]
  },
  {
   "cell_type": "code",
   "execution_count": 15,
   "metadata": {},
   "outputs": [
    {
     "data": {
      "text/plain": [
       "array(['cardiovasculardisease', 'gastroenterology', 'generalpractice',\n",
       "       'hematologyoncology', 'nephrology', 'neurology', 'psychiatry'],\n",
       "      dtype=object)"
      ]
     },
     "execution_count": 15,
     "metadata": {},
     "output_type": "execute_result"
    }
   ],
   "source": [
    "encoder.inverse_transform([0,1,2,3,4,5, 6])"
   ]
  },
  {
   "cell_type": "code",
   "execution_count": 16,
   "metadata": {},
   "outputs": [
    {
     "data": {
      "text/plain": [
       "array([0, 5, 2, ..., 4, 6, 3])"
      ]
     },
     "execution_count": 16,
     "metadata": {},
     "output_type": "execute_result"
    }
   ],
   "source": [
    "y_train"
   ]
  },
  {
   "cell_type": "code",
   "execution_count": 17,
   "metadata": {},
   "outputs": [],
   "source": [
    "clf = DecisionTreeClassifier()\n",
    "clf = clf.fit(X_train,y_train)"
   ]
  },
  {
   "cell_type": "code",
   "execution_count": 18,
   "metadata": {},
   "outputs": [],
   "source": [
    "y_pred = clf.predict(X_test)"
   ]
  },
  {
   "cell_type": "code",
   "execution_count": 19,
   "metadata": {},
   "outputs": [
    {
     "name": "stdout",
     "output_type": "stream",
     "text": [
      "Accuracy: 0.8720379146919431\n"
     ]
    }
   ],
   "source": [
    "print(\"Accuracy:\",metrics.accuracy_score(y_test, y_pred))"
   ]
  },
  {
   "cell_type": "code",
   "execution_count": 20,
   "metadata": {},
   "outputs": [],
   "source": [
    "from sklearn.metrics import   classification_report, confusion_matrix"
   ]
  },
  {
   "cell_type": "code",
   "execution_count": 21,
   "metadata": {},
   "outputs": [
    {
     "name": "stdout",
     "output_type": "stream",
     "text": [
      "              precision    recall  f1-score   support\n",
      "\n",
      "           0       0.88      0.92      0.90        63\n",
      "           1       0.87      0.87      0.87        52\n",
      "           2       0.95      0.96      0.96        56\n",
      "           3       0.96      0.81      0.88        59\n",
      "           4       0.85      0.94      0.89        62\n",
      "           5       0.90      0.77      0.83        79\n",
      "           6       0.72      0.86      0.79        51\n",
      "\n",
      "    accuracy                           0.87       422\n",
      "   macro avg       0.87      0.88      0.87       422\n",
      "weighted avg       0.88      0.87      0.87       422\n",
      "\n"
     ]
    }
   ],
   "source": [
    "print(classification_report(y_test, y_pred))"
   ]
  },
  {
   "cell_type": "code",
   "execution_count": 22,
   "metadata": {},
   "outputs": [
    {
     "data": {
      "text/plain": [
       "array([[58,  0,  0,  0,  3,  0,  2],\n",
       "       [ 2, 45,  1,  0,  2,  0,  2],\n",
       "       [ 0,  0, 54,  0,  0,  1,  1],\n",
       "       [ 1,  3,  0, 48,  2,  2,  3],\n",
       "       [ 2,  1,  0,  0, 58,  0,  1],\n",
       "       [ 2,  3,  0,  2,  3, 61,  8],\n",
       "       [ 1,  0,  2,  0,  0,  4, 44]], dtype=int64)"
      ]
     },
     "execution_count": 22,
     "metadata": {},
     "output_type": "execute_result"
    }
   ],
   "source": [
    "confusion_matrix(y_test, y_pred)"
   ]
  },
  {
   "cell_type": "code",
   "execution_count": 23,
   "metadata": {},
   "outputs": [
    {
     "name": "stderr",
     "output_type": "stream",
     "text": [
      "C:\\Users\\shibly\\Anaconda3\\lib\\site-packages\\sklearn\\ensemble\\forest.py:245: FutureWarning: The default value of n_estimators will change from 10 in version 0.20 to 100 in 0.22.\n",
      "  \"10 in version 0.20 to 100 in 0.22.\", FutureWarning)\n"
     ]
    },
    {
     "data": {
      "text/plain": [
       "RandomForestClassifier(bootstrap=True, class_weight=None, criterion='gini',\n",
       "                       max_depth=None, max_features='auto', max_leaf_nodes=None,\n",
       "                       min_impurity_decrease=0.0, min_impurity_split=None,\n",
       "                       min_samples_leaf=1, min_samples_split=2,\n",
       "                       min_weight_fraction_leaf=0.0, n_estimators=10,\n",
       "                       n_jobs=None, oob_score=False, random_state=0, verbose=0,\n",
       "                       warm_start=False)"
      ]
     },
     "execution_count": 23,
     "metadata": {},
     "output_type": "execute_result"
    }
   ],
   "source": [
    "from sklearn.ensemble import RandomForestClassifier\n",
    "from sklearn.datasets import make_classification\n",
    "clfRF = RandomForestClassifier(random_state=0)\n",
    "clfRF.fit(X_train, y_train)"
   ]
  },
  {
   "cell_type": "code",
   "execution_count": 24,
   "metadata": {},
   "outputs": [],
   "source": [
    "y_predRF = clfRF.predict(X_test)"
   ]
  },
  {
   "cell_type": "code",
   "execution_count": 25,
   "metadata": {},
   "outputs": [
    {
     "name": "stdout",
     "output_type": "stream",
     "text": [
      "Accuracy: 0.933649289099526\n"
     ]
    }
   ],
   "source": [
    "print(\"Accuracy:\",metrics.accuracy_score(y_test, y_predRF))"
   ]
  },
  {
   "cell_type": "code",
   "execution_count": 26,
   "metadata": {},
   "outputs": [
    {
     "name": "stdout",
     "output_type": "stream",
     "text": [
      "              precision    recall  f1-score   support\n",
      "\n",
      "           0       0.88      0.95      0.92        63\n",
      "           1       0.94      0.90      0.92        52\n",
      "           2       0.96      0.98      0.97        56\n",
      "           3       0.95      0.92      0.93        59\n",
      "           4       0.92      0.94      0.93        62\n",
      "           5       0.99      0.90      0.94        79\n",
      "           6       0.89      0.96      0.92        51\n",
      "\n",
      "    accuracy                           0.93       422\n",
      "   macro avg       0.93      0.94      0.93       422\n",
      "weighted avg       0.94      0.93      0.93       422\n",
      "\n"
     ]
    }
   ],
   "source": [
    "print(classification_report(y_test, y_predRF))"
   ]
  },
  {
   "cell_type": "code",
   "execution_count": 27,
   "metadata": {},
   "outputs": [
    {
     "data": {
      "text/plain": [
       "array([[60,  0,  0,  1,  2,  0,  0],\n",
       "       [ 2, 47,  1,  0,  1,  0,  1],\n",
       "       [ 0,  0, 55,  0,  0,  0,  1],\n",
       "       [ 4,  0,  0, 54,  0,  0,  1],\n",
       "       [ 2,  2,  0,  0, 58,  0,  0],\n",
       "       [ 0,  1,  0,  2,  2, 71,  3],\n",
       "       [ 0,  0,  1,  0,  0,  1, 49]], dtype=int64)"
      ]
     },
     "execution_count": 27,
     "metadata": {},
     "output_type": "execute_result"
    }
   ],
   "source": [
    "confusion_matrix(y_test, y_predRF)"
   ]
  },
  {
   "cell_type": "code",
   "execution_count": 28,
   "metadata": {},
   "outputs": [
    {
     "data": {
      "text/plain": [
       "MultinomialNB(alpha=1.0, class_prior=None, fit_prior=True)"
      ]
     },
     "execution_count": 28,
     "metadata": {},
     "output_type": "execute_result"
    }
   ],
   "source": [
    "from sklearn.naive_bayes import MultinomialNB\n",
    "clf = MultinomialNB()\n",
    "clf.fit(X_train, y_train)"
   ]
  },
  {
   "cell_type": "code",
   "execution_count": 29,
   "metadata": {},
   "outputs": [],
   "source": [
    "y_predNB = clfRF.predict(X_test)"
   ]
  },
  {
   "cell_type": "code",
   "execution_count": 30,
   "metadata": {},
   "outputs": [
    {
     "name": "stdout",
     "output_type": "stream",
     "text": [
      "Accuracy: 0.933649289099526\n"
     ]
    }
   ],
   "source": [
    "print(\"Accuracy:\",metrics.accuracy_score(y_test, y_predNB))"
   ]
  },
  {
   "cell_type": "code",
   "execution_count": 31,
   "metadata": {},
   "outputs": [
    {
     "name": "stdout",
     "output_type": "stream",
     "text": [
      "              precision    recall  f1-score   support\n",
      "\n",
      "           0       0.88      0.95      0.92        63\n",
      "           1       0.94      0.90      0.92        52\n",
      "           2       0.96      0.98      0.97        56\n",
      "           3       0.95      0.92      0.93        59\n",
      "           4       0.92      0.94      0.93        62\n",
      "           5       0.99      0.90      0.94        79\n",
      "           6       0.89      0.96      0.92        51\n",
      "\n",
      "    accuracy                           0.93       422\n",
      "   macro avg       0.93      0.94      0.93       422\n",
      "weighted avg       0.94      0.93      0.93       422\n",
      "\n"
     ]
    }
   ],
   "source": [
    "print(classification_report(y_test, y_predNB))"
   ]
  },
  {
   "cell_type": "code",
   "execution_count": 32,
   "metadata": {},
   "outputs": [
    {
     "data": {
      "text/plain": [
       "array([[60,  0,  0,  1,  2,  0,  0],\n",
       "       [ 2, 47,  1,  0,  1,  0,  1],\n",
       "       [ 0,  0, 55,  0,  0,  0,  1],\n",
       "       [ 4,  0,  0, 54,  0,  0,  1],\n",
       "       [ 2,  2,  0,  0, 58,  0,  0],\n",
       "       [ 0,  1,  0,  2,  2, 71,  3],\n",
       "       [ 0,  0,  1,  0,  0,  1, 49]], dtype=int64)"
      ]
     },
     "execution_count": 32,
     "metadata": {},
     "output_type": "execute_result"
    }
   ],
   "source": [
    "confusion_matrix(y_test, y_predNB)"
   ]
  },
  {
   "cell_type": "code",
   "execution_count": 33,
   "metadata": {},
   "outputs": [
    {
     "data": {
      "text/plain": [
       "['NBPrescroptionBestBaseline.sav']"
      ]
     },
     "execution_count": 33,
     "metadata": {},
     "output_type": "execute_result"
    }
   ],
   "source": [
    "#saving best baseline model\n",
    "import joblib\n",
    "joblib.dump(clf, 'NBPrescroptionBestBaseline.sav')"
   ]
  },
  {
   "cell_type": "code",
   "execution_count": 34,
   "metadata": {},
   "outputs": [],
   "source": [
    "#load and predict with a saved model\n",
    "predictor = joblib.load('NBPrescroptionBestBaseline.sav')"
   ]
  },
  {
   "cell_type": "code",
   "execution_count": 35,
   "metadata": {},
   "outputs": [],
   "source": [
    "y_predict = predictor.predict(X_test)"
   ]
  },
  {
   "cell_type": "code",
   "execution_count": 36,
   "metadata": {},
   "outputs": [
    {
     "name": "stdout",
     "output_type": "stream",
     "text": [
      "              precision    recall  f1-score   support\n",
      "\n",
      "           0       0.94      0.94      0.94        63\n",
      "           1       0.88      1.00      0.94        46\n",
      "           2       0.96      0.98      0.97        55\n",
      "           3       0.92      0.96      0.94        56\n",
      "           4       1.00      0.83      0.91        75\n",
      "           5       0.91      1.00      0.95        72\n",
      "           6       0.98      0.91      0.94        55\n",
      "\n",
      "    accuracy                           0.94       422\n",
      "   macro avg       0.94      0.95      0.94       422\n",
      "weighted avg       0.94      0.94      0.94       422\n",
      "\n"
     ]
    }
   ],
   "source": [
    "print(classification_report(y_predict, y_test))"
   ]
  },
  {
   "cell_type": "code",
   "execution_count": 37,
   "metadata": {},
   "outputs": [
    {
     "data": {
      "text/html": [
       "<div>\n",
       "<style scoped>\n",
       "    .dataframe tbody tr th:only-of-type {\n",
       "        vertical-align: middle;\n",
       "    }\n",
       "\n",
       "    .dataframe tbody tr th {\n",
       "        vertical-align: top;\n",
       "    }\n",
       "\n",
       "    .dataframe thead th {\n",
       "        text-align: right;\n",
       "    }\n",
       "</style>\n",
       "<table border=\"1\" class=\"dataframe\">\n",
       "  <thead>\n",
       "    <tr style=\"text-align: right;\">\n",
       "      <th></th>\n",
       "      <th>prescription</th>\n",
       "      <th>Unnamed: 1</th>\n",
       "    </tr>\n",
       "  </thead>\n",
       "  <tbody>\n",
       "    <tr>\n",
       "      <th>0</th>\n",
       "      <td>trilyte with flavor packet...</td>\n",
       "      <td>NaN</td>\n",
       "    </tr>\n",
       "    <tr>\n",
       "      <th>1</th>\n",
       "      <td>levofloxacin  letrozole  t...</td>\n",
       "      <td>NaN</td>\n",
       "    </tr>\n",
       "    <tr>\n",
       "      <th>2</th>\n",
       "      <td>amoxicillin</td>\n",
       "      <td>NaN</td>\n",
       "    </tr>\n",
       "    <tr>\n",
       "      <th>3</th>\n",
       "      <td>calcium acetate  bisoprolo...</td>\n",
       "      <td>NaN</td>\n",
       "    </tr>\n",
       "  </tbody>\n",
       "</table>\n",
       "</div>"
      ],
      "text/plain": [
       "                                        prescription  Unnamed: 1\n",
       "0                      trilyte with flavor packet...         NaN\n",
       "1                      levofloxacin  letrozole  t...         NaN\n",
       "2                                        amoxicillin         NaN\n",
       "3                      calcium acetate  bisoprolo...         NaN"
      ]
     },
     "execution_count": 37,
     "metadata": {},
     "output_type": "execute_result"
    }
   ],
   "source": [
    "from io import StringIO \n",
    "sample1 = StringIO(\"\"\"prescription;\n",
    "                    trilyte with flavor packets  gavilyten  lansoprazole  nexium  omeprazole  prevalite  asacol hd  pantoprazole sodium  ursodiol  spironolactone  azathioprine  dicyclomine hcl;\n",
    "                    levofloxacin  letrozole  tamoxifen citrate  dexamethasone  exemestane  prochlorperazine maleate  warfarin sodium  anastrozole  hydrocodoneacetaminophen  potassium chloride  megestrol acetate  klorcon m  alprazolam  ondansetron hcl;\n",
    "                    amoxicillin;\n",
    "                    calcium acetate  bisoprololhydrochlorothiazide  allopurinol  potassium citrate  amlodipine besylate;\n",
    "    \n",
    "                    \"\"\")\n",
    "\n",
    "    #keywords labeled as \n",
    "    #1. gasternology(labeled as 1) \n",
    "    #2. hematologyoncology(labeled as 3) \n",
    "    #3. generalpractice(labeled as 2)\n",
    "    #4. nephrology (labeled as 4)\n",
    "    #first we need to preprocess the example. Store the input texts to a dataframe and preprocess\n",
    "\n",
    "predictDF = pd.read_csv(sample1, sep =\";\")\n",
    "\n",
    "\n",
    "predictDF"
   ]
  },
  {
   "cell_type": "code",
   "execution_count": 38,
   "metadata": {},
   "outputs": [
    {
     "data": {
      "text/html": [
       "<div>\n",
       "<style scoped>\n",
       "    .dataframe tbody tr th:only-of-type {\n",
       "        vertical-align: middle;\n",
       "    }\n",
       "\n",
       "    .dataframe tbody tr th {\n",
       "        vertical-align: top;\n",
       "    }\n",
       "\n",
       "    .dataframe thead th {\n",
       "        text-align: right;\n",
       "    }\n",
       "</style>\n",
       "<table border=\"1\" class=\"dataframe\">\n",
       "  <thead>\n",
       "    <tr style=\"text-align: right;\">\n",
       "      <th></th>\n",
       "      <th>prescription</th>\n",
       "      <th>Unnamed: 1</th>\n",
       "    </tr>\n",
       "  </thead>\n",
       "  <tbody>\n",
       "    <tr>\n",
       "      <th>0</th>\n",
       "      <td>trilyte with flavor packet...</td>\n",
       "      <td>NaN</td>\n",
       "    </tr>\n",
       "    <tr>\n",
       "      <th>1</th>\n",
       "      <td>levofloxacin  letrozole  t...</td>\n",
       "      <td>NaN</td>\n",
       "    </tr>\n",
       "    <tr>\n",
       "      <th>2</th>\n",
       "      <td>amoxicillin</td>\n",
       "      <td>NaN</td>\n",
       "    </tr>\n",
       "    <tr>\n",
       "      <th>3</th>\n",
       "      <td>calcium acetate  bisoprolo...</td>\n",
       "      <td>NaN</td>\n",
       "    </tr>\n",
       "  </tbody>\n",
       "</table>\n",
       "</div>"
      ],
      "text/plain": [
       "                                        prescription  Unnamed: 1\n",
       "0                      trilyte with flavor packet...         NaN\n",
       "1                      levofloxacin  letrozole  t...         NaN\n",
       "2                                        amoxicillin         NaN\n",
       "3                      calcium acetate  bisoprolo...         NaN"
      ]
     },
     "execution_count": 38,
     "metadata": {},
     "output_type": "execute_result"
    }
   ],
   "source": [
    "import re\n",
    "REPLACE_BY_SPACE_RE = re.compile('[/(){}\\[\\]\\|@,;]')\n",
    "BAD_SYMBOLS_RE = re.compile('[^0-9a-z #+_]')\n",
    "SPACE_RE = re.compile(' ')\n",
    "def clean_text(text):\n",
    "    \"\"\"\n",
    "        text: a string\n",
    "        \n",
    "        return: modified initial string\n",
    "    \"\"\"\n",
    "    #text = BeautifulSoup(text, \"lxml\").text # HTML decoding\n",
    "    text = text.lower() # lowercase text\n",
    "    text = REPLACE_BY_SPACE_RE.sub(' ', text) # replace REPLACE_BY_SPACE_RE symbols by space in text\n",
    "    text = BAD_SYMBOLS_RE.sub('', text) # delete symbols which are in BAD_SYMBOLS_RE from text\n",
    "    text = SPACE_RE.sub(' ', text)\n",
    "    #text = ' '.join(word for word in text.split() if word not in STOPWORDS) # delete stopwors from text\n",
    "    return text\n",
    "\n",
    "predictDF['prescription'] = predictDF['prescription'].apply(clean_text)\n",
    "predictDF"
   ]
  },
  {
   "cell_type": "code",
   "execution_count": 40,
   "metadata": {},
   "outputs": [],
   "source": [
    "X_sample1 = tokenize.texts_to_matrix(predictDF.prescription)"
   ]
  },
  {
   "cell_type": "code",
   "execution_count": 41,
   "metadata": {},
   "outputs": [
    {
     "data": {
      "text/plain": [
       "array([1, 3, 2, 4])"
      ]
     },
     "execution_count": 41,
     "metadata": {},
     "output_type": "execute_result"
    }
   ],
   "source": [
    "y_sample1 = predictor.predict(X_sample1)\n",
    "y_sample1"
   ]
  },
  {
   "cell_type": "code",
   "execution_count": 42,
   "metadata": {},
   "outputs": [],
   "source": [
    "#4 right 0 wrong"
   ]
  },
  {
   "cell_type": "code",
   "execution_count": 43,
   "metadata": {},
   "outputs": [],
   "source": [
    "y_predict = predictor.predict(X_test)"
   ]
  },
  {
   "cell_type": "code",
   "execution_count": 44,
   "metadata": {},
   "outputs": [
    {
     "name": "stdout",
     "output_type": "stream",
     "text": [
      "              precision    recall  f1-score   support\n",
      "\n",
      "           0       0.94      0.94      0.94        63\n",
      "           1       0.88      1.00      0.94        46\n",
      "           2       0.96      0.98      0.97        55\n",
      "           3       0.92      0.96      0.94        56\n",
      "           4       1.00      0.83      0.91        75\n",
      "           5       0.91      1.00      0.95        72\n",
      "           6       0.98      0.91      0.94        55\n",
      "\n",
      "    accuracy                           0.94       422\n",
      "   macro avg       0.94      0.95      0.94       422\n",
      "weighted avg       0.94      0.94      0.94       422\n",
      "\n"
     ]
    }
   ],
   "source": [
    "print(classification_report(y_predict, y_test))"
   ]
  },
  {
   "cell_type": "code",
   "execution_count": 250,
   "metadata": {},
   "outputs": [
    {
     "data": {
      "image/png": "[encoded data removed]",
      "text/plain": [
       "<Figure size 1440x360 with 1 Axes>"
      ]
     },
     "metadata": {
      "needs_background": "light"
     },
     "output_type": "display_data"
    }
   ],
   "source": [
    "import matplotlib.pyplot as plt\n",
    "label = ['Cardiovascular Disease', 'Gastroenterology', 'General Practice',\n",
    "       'Hematology and Oncology', 'Nephrology', 'Neurology', 'Psychiatry']\n",
    "# Create bars\n",
    "barWidth = 2\n",
    "bars1 = [0.90, 0.96, 0.98, 0.94, 0.98, 0.84, 0.88]\n",
    "bars2 = [0.94, 0.97, 0.98, 0.92 ,0.90, 0.88, 0.90]\n",
    "bars3 = [0.92 , 0.97, 0.98, 0.93, 0.94, 0.86, 0.89]\n",
    "bars4 = bars1 + bars2 + bars3\n",
    " \n",
    "# The X position of bars\n",
    "r1 = [1,8,15, 22, 29, 36, 43]\n",
    "r2 = [3,10,17, 24, 31, 38, 45]\n",
    "r3 = [5,12,19,26,33, 40, 47]\n",
    "r4 = r1 + r2 + r3\n",
    " \n",
    "plt.figure(figsize=(20, 5))\n",
    "# Create barplot\n",
    "plt.bar(r1, bars1, width = barWidth, color = (0.3,0.1,0.4,0.6), label='Precision')\n",
    "plt.bar(r2, bars2, width = barWidth, color = (0.3,0.5,0.4,0.6), label='Recall')\n",
    "plt.bar(r3, bars3, width = barWidth, color = (0.3,0.9,0.4,0.6), label='F1-score')\n",
    "# Note: the barplot could be created easily. See the barplot section for other examples.\n",
    " \n",
    "# Create legend\n",
    "plt.legend()\n",
    "plt.xlabel('Medical specialty', fontsize=12)\n",
    "plt.ylabel('precision/recall/f1', fontsize=12)\n",
    " \n",
    "# Text below each barplot with a rotation at 90°\n",
    "#plt.xticks([r + barWidth for r in range(len(r4)/3)], ['DD', 'with himself', 'with DC', 'with Silur', 'DC'], rotation=90)\n",
    " \n",
    "# Create labels\n",
    "labels = bars4\n",
    " \n",
    "# Text on the top of each barplot\n",
    "for i in range(len(r4)):\n",
    "    plt.text(x = r4[i]-0.5 , y = bars4[i]+0.02, s = labels[i], size = 12, rotation = 90)\n",
    " \n",
    "# Adjust the margins\n",
    "plt.subplots_adjust(bottom=0.25, top = 2.4)\n",
    "#X = np.arange(15)\n",
    "plt.xticks([2.75, 9.75, 16.75, 23.75, 30.75, 37.75, 44.75, 51.75], label, fontsize=12, rotation=30)\n",
    "# Show graphic\n",
    "plt.show()"
   ]
  },
  {
   "cell_type": "code",
   "execution_count": 45,
   "metadata": {},
   "outputs": [
    {
     "name": "stdout",
     "output_type": "stream",
     "text": [
      "              precision    recall  f1-score   support\n",
      "\n",
      "           0       0.94      0.94      0.94        63\n",
      "           1       0.88      1.00      0.94        46\n",
      "           2       0.96      0.98      0.97        55\n",
      "           3       0.92      0.96      0.94        56\n",
      "           4       1.00      0.83      0.91        75\n",
      "           5       0.91      1.00      0.95        72\n",
      "           6       0.98      0.91      0.94        55\n",
      "\n",
      "    accuracy                           0.94       422\n",
      "   macro avg       0.94      0.95      0.94       422\n",
      "weighted avg       0.94      0.94      0.94       422\n",
      "\n"
     ]
    }
   ],
   "source": [
    "print(classification_report(y_predict, y_test))"
   ]
  },
  {
   "cell_type": "code",
   "execution_count": 49,
   "metadata": {},
   "outputs": [
    {
     "data": {
      "image/png": "[encoded data removed]",
      "text/plain": [
       "<Figure size 720x360 with 1 Axes>"
      ]
     },
     "metadata": {
      "needs_background": "light"
     },
     "output_type": "display_data"
    }
   ],
   "source": [
    "import matplotlib.pyplot as plt\n",
    "label = ['Cardiovascular Disease', 'Gastroenterology', 'General Practice',\n",
    "       'Hematology and Oncology', 'Nephrology', 'Neurology', 'Psychiatry']\n",
    "precision = [0.94, 0.88, 0.96, 0.92, 1.0, 0.91, 0.98]\n",
    "recall = [0.94, 1.0, 0.98, 0.96 ,0.83, 1.0, 0.91]\n",
    "f1 = [0.94 , 0.94, 0.97, 0.94, 0.91, 0.95, 0.94]\n",
    "plt.figure(figsize=(10, 5))\n",
    "plt.xticks([0, 1, 2, 3, 4, 5, 6],label, fontsize=10, rotation=45)\n",
    "plt.plot(precision, color='k', label = 'precision')\n",
    "plt.plot(recall, color='b', label = 'recall')\n",
    "plt.plot( f1, color='c', label = 'f1-score')\n",
    "plt.legend()\n",
    "plt.xlabel('Medical specialty')\n",
    "plt.ylabel('precision/recall/f1-score')\n",
    "plt.title('Specialty-wise performance for the baseline model to classify prescription')\n",
    "plt.grid()\n",
    "plt.show()"
   ]
  },
  {
   "cell_type": "code",
   "execution_count": null,
   "metadata": {},
   "outputs": [],
   "source": []
  },
  {
   "cell_type": "code",
   "execution_count": null,
   "metadata": {},
   "outputs": [],
   "source": []
  }
 ],
 "metadata": {
  "kernelspec": {
   "display_name": "Python 3",
   "language": "python",
   "name": "python3"
  },
  "language_info": {
   "codemirror_mode": {
    "name": "ipython",
    "version": 3
   },
   "file_extension": ".py",
   "mimetype": "text/x-python",
   "name": "python",
   "nbconvert_exporter": "python",
   "pygments_lexer": "ipython3",
   "version": "3.7.3"
  }
 },
 "nbformat": 4,
 "nbformat_minor": 2
}
