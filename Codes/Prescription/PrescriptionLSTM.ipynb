{
 "cells": [
  {
   "cell_type": "code",
   "execution_count": 30,
   "metadata": {},
   "outputs": [],
   "source": [
    "import csv\n",
    "import tensorflow as tf\n",
    "import numpy as np\n",
    "from tensorflow.keras.preprocessing.text import Tokenizer\n",
    "from tensorflow.keras.preprocessing.sequence import pad_sequences\n",
    "from sklearn.preprocessing import LabelBinarizer, LabelEncoder"
   ]
  },
  {
   "cell_type": "code",
   "execution_count": 31,
   "metadata": {},
   "outputs": [
    {
     "data": {
      "text/plain": [
       "False"
      ]
     },
     "execution_count": 31,
     "metadata": {},
     "output_type": "execute_result"
    }
   ],
   "source": [
    "tf.test.is_gpu_available()"
   ]
  },
  {
   "cell_type": "code",
   "execution_count": 32,
   "metadata": {},
   "outputs": [],
   "source": [
    "vocab_size = 1000\n",
    "embedding_dim = 128\n",
    "max_length = 200\n",
    "trunc_type = 'post'\n",
    "padding_type = 'post'\n",
    "oov_tok = '<OOV>'\n",
    "training_portion = .8"
   ]
  },
  {
   "cell_type": "code",
   "execution_count": 33,
   "metadata": {},
   "outputs": [],
   "source": [
    "import pandas as pd\n",
    "df = pd.read_csv('EP1.csv')"
   ]
  },
  {
   "cell_type": "code",
   "execution_count": 34,
   "metadata": {},
   "outputs": [],
   "source": [
    "df = df.sample(frac=1)"
   ]
  },
  {
   "cell_type": "code",
   "execution_count": 35,
   "metadata": {},
   "outputs": [],
   "source": [
    "X = df.prescription.values\n",
    "y = df.specialty.values"
   ]
  },
  {
   "cell_type": "code",
   "execution_count": 36,
   "metadata": {},
   "outputs": [],
   "source": [
    "from sklearn.model_selection import train_test_split\n",
    "X_train, X_test, y_train, y_test = train_test_split(X, y, test_size = 0.2, random_state = 50)"
   ]
  },
  {
   "cell_type": "code",
   "execution_count": 37,
   "metadata": {},
   "outputs": [
    {
     "data": {
      "text/plain": [
       "{'<OOV>': 1,\n",
       " 'hcl': 2,\n",
       " 'sodium': 3,\n",
       " 'er': 4,\n",
       " 'tartrate': 5,\n",
       " 'metoprolol': 6,\n",
       " 'potassium': 7,\n",
       " 'omeprazole': 8,\n",
       " 'amlodipine': 9,\n",
       " 'calcium': 10}"
      ]
     },
     "execution_count": 37,
     "metadata": {},
     "output_type": "execute_result"
    }
   ],
   "source": [
    "tokenizer = Tokenizer(num_words = vocab_size, oov_token=oov_tok)\n",
    "tokenizer.fit_on_texts(X_train) #only train\n",
    "word_index = tokenizer.word_index\n",
    "dict(list(word_index.items())[0:10])"
   ]
  },
  {
   "cell_type": "code",
   "execution_count": 38,
   "metadata": {},
   "outputs": [
    {
     "data": {
      "text/plain": [
       "1046"
      ]
     },
     "execution_count": 38,
     "metadata": {},
     "output_type": "execute_result"
    }
   ],
   "source": [
    "len(word_index)"
   ]
  },
  {
   "cell_type": "code",
   "execution_count": 39,
   "metadata": {},
   "outputs": [],
   "source": [
    "X_train_seq = tokenizer.texts_to_sequences(X_train)\n",
    "X_train_padded = pad_sequences(X_train_seq, maxlen=max_length, padding=padding_type, truncating=trunc_type)"
   ]
  },
  {
   "cell_type": "code",
   "execution_count": 40,
   "metadata": {},
   "outputs": [],
   "source": [
    "X_test_seq = tokenizer.texts_to_sequences(X_test)\n",
    "X_test_padded = pad_sequences(X_test_seq, maxlen=max_length, padding=padding_type, truncating=trunc_type)"
   ]
  },
  {
   "cell_type": "code",
   "execution_count": 41,
   "metadata": {},
   "outputs": [
    {
     "data": {
      "text/plain": [
       "LabelEncoder()"
      ]
     },
     "execution_count": 41,
     "metadata": {},
     "output_type": "execute_result"
    }
   ],
   "source": [
    "encoder = LabelEncoder()\n",
    "encoder.fit(y)"
   ]
  },
  {
   "cell_type": "code",
   "execution_count": 42,
   "metadata": {},
   "outputs": [
    {
     "data": {
      "text/plain": [
       "array(['cardiovasculardisease', 'gastroenterology', 'generalpractice',\n",
       "       'hematologyoncology', 'nephrology', 'neurology', 'psychiatry'],\n",
       "      dtype=object)"
      ]
     },
     "execution_count": 42,
     "metadata": {},
     "output_type": "execute_result"
    }
   ],
   "source": [
    "encoder.inverse_transform([0,1,2,3,4,5,6])"
   ]
  },
  {
   "cell_type": "code",
   "execution_count": 43,
   "metadata": {},
   "outputs": [],
   "source": [
    "y_train = encoder.transform(y_train)\n",
    "y_test = encoder.transform(y_test)"
   ]
  },
  {
   "cell_type": "code",
   "execution_count": 44,
   "metadata": {},
   "outputs": [
    {
     "name": "stdout",
     "output_type": "stream",
     "text": [
      "omeprazole ? ? ? ? ? ? ? ? ? ? ? ? ? ? ? ? ? ? ? ? ? ? ? ? ? ? ? ? ? ? ? ? ? ? ? ? ? ? ? ? ? ? ? ? ? ? ? ? ? ? ? ? ? ? ? ? ? ? ? ? ? ? ? ? ? ? ? ? ? ? ? ? ? ? ? ? ? ? ? ? ? ? ? ? ? ? ? ? ? ? ? ? ? ? ? ? ? ? ? ? ? ? ? ? ? ? ? ? ? ? ? ? ? ? ? ? ? ? ? ? ? ? ? ? ? ? ? ? ? ? ? ? ? ? ? ? ? ? ? ? ? ? ? ? ? ? ? ? ? ? ? ? ? ? ? ? ? ? ? ? ? ? ? ? ? ? ? ? ? ? ? ? ? ? ? ? ? ? ? ? ? ? ? ? ? ? ? ? ? ? ? ? ? ? ? ? ? ? ?\n",
      "---\n",
      "omeprazole\n"
     ]
    }
   ],
   "source": [
    "reverse_word_index = dict([(value, key) for (key, value) in word_index.items()])\n",
    "\n",
    "def decode_article(text):\n",
    "    return ' '.join([reverse_word_index.get(i, '?') for i in text])\n",
    "print(decode_article(X_train_padded[120]))\n",
    "print('---')\n",
    "print(X_train[120])"
   ]
  },
  {
   "cell_type": "code",
   "execution_count": 45,
   "metadata": {},
   "outputs": [
    {
     "data": {
      "text/plain": [
       "1"
      ]
     },
     "execution_count": 45,
     "metadata": {},
     "output_type": "execute_result"
    }
   ],
   "source": [
    "y_train[120]"
   ]
  },
  {
   "cell_type": "code",
   "execution_count": 46,
   "metadata": {},
   "outputs": [
    {
     "name": "stdout",
     "output_type": "stream",
     "text": [
      "_________________________________________________________________\n",
      "Layer (type)                 Output Shape              Param #   \n",
      "=================================================================\n",
      "embedding_1 (Embedding)      (None, 200, 128)          128000    \n",
      "_________________________________________________________________\n",
      "bidirectional_1 (Bidirection (None, 256)               263168    \n",
      "_________________________________________________________________\n",
      "dense_2 (Dense)              (None, 128)               32896     \n",
      "_________________________________________________________________\n",
      "dense_3 (Dense)              (None, 7)                 903       \n",
      "=================================================================\n",
      "Total params: 424,967\n",
      "Trainable params: 424,967\n",
      "Non-trainable params: 0\n",
      "_________________________________________________________________\n"
     ]
    }
   ],
   "source": [
    "model = tf.keras.Sequential([\n",
    "    # Add an Embedding layer expecting input vocab of size 5000, and output embedding dimension of size 64 we set at the top\n",
    "    tf.keras.layers.Embedding(vocab_size, embedding_dim, input_length = 200),\n",
    "    #tf.keras.layers.SpatialDropout1D(0.2),\n",
    "    tf.keras.layers.Bidirectional(tf.keras.layers.LSTM(embedding_dim)),\n",
    "#    tf.keras.layers.Bidirectional(tf.keras.layers.LSTM(32)),\n",
    "    # use ReLU in place of tanh function since they are very good alternatives of each other.\n",
    "    tf.keras.layers.Dense(embedding_dim, activation='relu'),\n",
    "    # Add a Dense layer with 6 units and softmax activation.\n",
    "    # When we have multiple outputs, softmax convert outputs layers into a probability distribution.\n",
    "    tf.keras.layers.Dense(7, activation='softmax')\n",
    "])\n",
    "model.summary()"
   ]
  },
  {
   "cell_type": "code",
   "execution_count": 47,
   "metadata": {},
   "outputs": [
    {
     "name": "stdout",
     "output_type": "stream",
     "text": [
      "Train on 1516 samples, validate on 169 samples\n",
      "Epoch 1/10\n",
      "1516/1516 [==============================] - 39s 26ms/sample - loss: 1.4829 - acc: 0.4703 - val_loss: 0.6977 - val_acc: 0.8757\n",
      "Epoch 2/10\n",
      "1516/1516 [==============================] - 37s 25ms/sample - loss: 0.3955 - acc: 0.8885 - val_loss: 0.2012 - val_acc: 0.9408\n",
      "Epoch 3/10\n",
      "1516/1516 [==============================] - 37s 25ms/sample - loss: 0.2140 - acc: 0.9433 - val_loss: 0.1776 - val_acc: 0.9467\n",
      "Epoch 4/10\n",
      "1516/1516 [==============================] - 37s 25ms/sample - loss: 0.1532 - acc: 0.9598 - val_loss: 0.1364 - val_acc: 0.9645\n",
      "Epoch 5/10\n",
      "1516/1516 [==============================] - 38s 25ms/sample - loss: 0.1362 - acc: 0.9617 - val_loss: 0.2399 - val_acc: 0.8994\n",
      "Epoch 6/10\n",
      "1516/1516 [==============================] - 37s 25ms/sample - loss: 0.1220 - acc: 0.9611 - val_loss: 0.1184 - val_acc: 0.9704\n",
      "Epoch 7/10\n",
      "1516/1516 [==============================] - 37s 25ms/sample - loss: 0.0879 - acc: 0.9743 - val_loss: 0.1032 - val_acc: 0.9645\n",
      "Epoch 8/10\n",
      "1516/1516 [==============================] - 37s 25ms/sample - loss: 0.0940 - acc: 0.9716 - val_loss: 0.0979 - val_acc: 0.9586\n",
      "Epoch 9/10\n",
      "1516/1516 [==============================] - 38s 25ms/sample - loss: 0.0595 - acc: 0.9828 - val_loss: 0.1194 - val_acc: 0.9527\n",
      "Epoch 10/10\n",
      "1516/1516 [==============================] - 38s 25ms/sample - loss: 0.0739 - acc: 0.9789 - val_loss: 0.1259 - val_acc: 0.9467\n"
     ]
    }
   ],
   "source": [
    "model.compile(loss='sparse_categorical_crossentropy', optimizer='adam', metrics=['accuracy'])\n",
    "num_epochs = 10\n",
    "history = model.fit(X_train_padded, y_train, epochs=num_epochs,\n",
    "                    validation_split=0.1, verbose=1)"
   ]
  },
  {
   "cell_type": "code",
   "execution_count": 48,
   "metadata": {},
   "outputs": [
    {
     "name": "stdout",
     "output_type": "stream",
     "text": [
      "422/422 [==============================] - 2s 4ms/sample - loss: 0.2236 - acc: 0.9455\n"
     ]
    },
    {
     "data": {
      "text/plain": [
       "[0.22362839808396254, 0.94549763]"
      ]
     },
     "execution_count": 48,
     "metadata": {},
     "output_type": "execute_result"
    }
   ],
   "source": [
    "model.evaluate(X_test_padded, y_test)"
   ]
  },
  {
   "cell_type": "code",
   "execution_count": 49,
   "metadata": {},
   "outputs": [],
   "source": [
    "y_pred=model.predict_classes(X_test_padded)"
   ]
  },
  {
   "cell_type": "code",
   "execution_count": 50,
   "metadata": {},
   "outputs": [],
   "source": [
    "from sklearn.metrics import   classification_report, confusion_matrix"
   ]
  },
  {
   "cell_type": "code",
   "execution_count": 51,
   "metadata": {},
   "outputs": [
    {
     "name": "stdout",
     "output_type": "stream",
     "text": [
      "              precision    recall  f1-score   support\n",
      "\n",
      "           0       0.97      0.95      0.96        61\n",
      "           1       0.91      1.00      0.95        51\n",
      "           2       0.95      0.98      0.97        59\n",
      "           3       1.00      0.94      0.97        66\n",
      "           4       0.92      0.97      0.94        59\n",
      "           5       0.88      0.93      0.90        54\n",
      "           6       0.98      0.88      0.93        72\n",
      "\n",
      "    accuracy                           0.95       422\n",
      "   macro avg       0.94      0.95      0.95       422\n",
      "weighted avg       0.95      0.95      0.95       422\n",
      "\n"
     ]
    }
   ],
   "source": [
    "print(classification_report(y_test, y_pred))"
   ]
  },
  {
   "cell_type": "code",
   "execution_count": 52,
   "metadata": {},
   "outputs": [
    {
     "data": {
      "text/plain": [
       "array([[58,  0,  0,  0,  2,  1,  0],\n",
       "       [ 0, 51,  0,  0,  0,  0,  0],\n",
       "       [ 0,  0, 58,  0,  0,  1,  0],\n",
       "       [ 0,  2,  1, 62,  1,  0,  0],\n",
       "       [ 0,  1,  1,  0, 57,  0,  0],\n",
       "       [ 2,  1,  0,  0,  0, 50,  1],\n",
       "       [ 0,  1,  1,  0,  2,  5, 63]], dtype=int64)"
      ]
     },
     "execution_count": 52,
     "metadata": {},
     "output_type": "execute_result"
    }
   ],
   "source": [
    "confusion_matrix(y_test, y_pred)"
   ]
  },
  {
   "cell_type": "code",
   "execution_count": 53,
   "metadata": {},
   "outputs": [],
   "source": [
    "model.save('LSTMPrescription.h5')"
   ]
  },
  {
   "cell_type": "code",
   "execution_count": 54,
   "metadata": {},
   "outputs": [],
   "source": [
    "import keras\n",
    "import h5py\n",
    "predictor = tf.keras.models.load_model('LSTMPrescription.h5')"
   ]
  },
  {
   "cell_type": "code",
   "execution_count": 55,
   "metadata": {},
   "outputs": [
    {
     "name": "stdout",
     "output_type": "stream",
     "text": [
      "              precision    recall  f1-score   support\n",
      "\n",
      "           0       0.97      0.95      0.96        61\n",
      "           1       0.91      1.00      0.95        51\n",
      "           2       0.95      0.98      0.97        59\n",
      "           3       1.00      0.94      0.97        66\n",
      "           4       0.92      0.97      0.94        59\n",
      "           5       0.88      0.93      0.90        54\n",
      "           6       0.98      0.88      0.93        72\n",
      "\n",
      "    accuracy                           0.95       422\n",
      "   macro avg       0.94      0.95      0.95       422\n",
      "weighted avg       0.95      0.95      0.95       422\n",
      "\n"
     ]
    }
   ],
   "source": [
    "y_predict1 = predictor.predict_classes(X_test_padded)\n",
    "print(classification_report(y_test, y_predict1))"
   ]
  },
  {
   "cell_type": "code",
   "execution_count": 56,
   "metadata": {},
   "outputs": [
    {
     "data": {
      "text/html": [
       "<div>\n",
       "<style scoped>\n",
       "    .dataframe tbody tr th:only-of-type {\n",
       "        vertical-align: middle;\n",
       "    }\n",
       "\n",
       "    .dataframe tbody tr th {\n",
       "        vertical-align: top;\n",
       "    }\n",
       "\n",
       "    .dataframe thead th {\n",
       "        text-align: right;\n",
       "    }\n",
       "</style>\n",
       "<table border=\"1\" class=\"dataframe\">\n",
       "  <thead>\n",
       "    <tr style=\"text-align: right;\">\n",
       "      <th></th>\n",
       "      <th>prescription</th>\n",
       "      <th>Unnamed: 1</th>\n",
       "    </tr>\n",
       "  </thead>\n",
       "  <tbody>\n",
       "    <tr>\n",
       "      <th>0</th>\n",
       "      <td>trilyte with flavor packet...</td>\n",
       "      <td>NaN</td>\n",
       "    </tr>\n",
       "    <tr>\n",
       "      <th>1</th>\n",
       "      <td>levofloxacin  letrozole  t...</td>\n",
       "      <td>NaN</td>\n",
       "    </tr>\n",
       "    <tr>\n",
       "      <th>2</th>\n",
       "      <td>amoxicillin</td>\n",
       "      <td>NaN</td>\n",
       "    </tr>\n",
       "    <tr>\n",
       "      <th>3</th>\n",
       "      <td>calcium acetate  bisoprolo...</td>\n",
       "      <td>NaN</td>\n",
       "    </tr>\n",
       "  </tbody>\n",
       "</table>\n",
       "</div>"
      ],
      "text/plain": [
       "                                        prescription  Unnamed: 1\n",
       "0                      trilyte with flavor packet...         NaN\n",
       "1                      levofloxacin  letrozole  t...         NaN\n",
       "2                                        amoxicillin         NaN\n",
       "3                      calcium acetate  bisoprolo...         NaN"
      ]
     },
     "execution_count": 56,
     "metadata": {},
     "output_type": "execute_result"
    }
   ],
   "source": [
    "from io import StringIO \n",
    "sample1 = StringIO(\"\"\"prescription;\n",
    "                    trilyte with flavor packets  gavilyten  lansoprazole  nexium  omeprazole  prevalite  asacol hd  pantoprazole sodium  ursodiol  spironolactone  azathioprine  dicyclomine hcl;\n",
    "                    levofloxacin  letrozole  tamoxifen citrate  dexamethasone  exemestane  prochlorperazine maleate  warfarin sodium  anastrozole  hydrocodoneacetaminophen  potassium chloride  megestrol acetate  klorcon m  alprazolam  ondansetron hcl;\n",
    "                    amoxicillin;\n",
    "                    calcium acetate  bisoprololhydrochlorothiazide  allopurinol  potassium citrate  amlodipine besylate;\n",
    "    \n",
    "                    \"\"\")\n",
    "\n",
    "    #keywords labeled as \n",
    "    #1. gasternology(labeled as 1) \n",
    "    #2. hematologyoncology(labeled as 3) \n",
    "    #3. generalpractice(labeled as 2)\n",
    "    #4. nephrology (labeled as 4)\n",
    "    #first we need to preprocess the example. Store the input texts to a dataframe and preprocess\n",
    "\n",
    "predictDF = pd.read_csv(sample1, sep =\";\")\n",
    "\n",
    "\n",
    "predictDF"
   ]
  },
  {
   "cell_type": "code",
   "execution_count": 57,
   "metadata": {},
   "outputs": [
    {
     "data": {
      "text/html": [
       "<div>\n",
       "<style scoped>\n",
       "    .dataframe tbody tr th:only-of-type {\n",
       "        vertical-align: middle;\n",
       "    }\n",
       "\n",
       "    .dataframe tbody tr th {\n",
       "        vertical-align: top;\n",
       "    }\n",
       "\n",
       "    .dataframe thead th {\n",
       "        text-align: right;\n",
       "    }\n",
       "</style>\n",
       "<table border=\"1\" class=\"dataframe\">\n",
       "  <thead>\n",
       "    <tr style=\"text-align: right;\">\n",
       "      <th></th>\n",
       "      <th>prescription</th>\n",
       "      <th>Unnamed: 1</th>\n",
       "    </tr>\n",
       "  </thead>\n",
       "  <tbody>\n",
       "    <tr>\n",
       "      <th>0</th>\n",
       "      <td>trilyte with flavor packet...</td>\n",
       "      <td>NaN</td>\n",
       "    </tr>\n",
       "    <tr>\n",
       "      <th>1</th>\n",
       "      <td>levofloxacin  letrozole  t...</td>\n",
       "      <td>NaN</td>\n",
       "    </tr>\n",
       "    <tr>\n",
       "      <th>2</th>\n",
       "      <td>amoxicillin</td>\n",
       "      <td>NaN</td>\n",
       "    </tr>\n",
       "    <tr>\n",
       "      <th>3</th>\n",
       "      <td>calcium acetate  bisoprolo...</td>\n",
       "      <td>NaN</td>\n",
       "    </tr>\n",
       "  </tbody>\n",
       "</table>\n",
       "</div>"
      ],
      "text/plain": [
       "                                        prescription  Unnamed: 1\n",
       "0                      trilyte with flavor packet...         NaN\n",
       "1                      levofloxacin  letrozole  t...         NaN\n",
       "2                                        amoxicillin         NaN\n",
       "3                      calcium acetate  bisoprolo...         NaN"
      ]
     },
     "execution_count": 57,
     "metadata": {},
     "output_type": "execute_result"
    }
   ],
   "source": [
    "import re\n",
    "REPLACE_BY_SPACE_RE = re.compile('[/(){}\\[\\]\\|@,;]')\n",
    "BAD_SYMBOLS_RE = re.compile('[^0-9a-z #+_]')\n",
    "SPACE_RE = re.compile(' ')\n",
    "def clean_text(text):\n",
    "    \"\"\"\n",
    "        text: a string\n",
    "        \n",
    "        return: modified initial string\n",
    "    \"\"\"\n",
    "    #text = BeautifulSoup(text, \"lxml\").text # HTML decoding\n",
    "    text = text.lower() # lowercase text\n",
    "    text = REPLACE_BY_SPACE_RE.sub(' ', text) # replace REPLACE_BY_SPACE_RE symbols by space in text\n",
    "    text = BAD_SYMBOLS_RE.sub('', text) # delete symbols which are in BAD_SYMBOLS_RE from text\n",
    "    text = SPACE_RE.sub(' ', text)\n",
    "    #text = ' '.join(word for word in text.split() if word not in STOPWORDS) # delete stopwors from text\n",
    "    return text\n",
    "\n",
    "predictDF['prescription'] = predictDF['prescription'].apply(clean_text)\n",
    "predictDF"
   ]
  },
  {
   "cell_type": "code",
   "execution_count": 58,
   "metadata": {},
   "outputs": [],
   "source": [
    "X_sample_seq = tokenizer.texts_to_sequences(predictDF.prescription.values)\n",
    "X_sample_padded = pad_sequences(X_sample_seq, maxlen=max_length, padding=padding_type, truncating=trunc_type)"
   ]
  },
  {
   "cell_type": "code",
   "execution_count": 59,
   "metadata": {},
   "outputs": [],
   "source": [
    "y_predict = predictor.predict_classes(X_sample_padded)"
   ]
  },
  {
   "cell_type": "code",
   "execution_count": 60,
   "metadata": {},
   "outputs": [
    {
     "data": {
      "text/plain": [
       "array([1, 3, 2, 4], dtype=int64)"
      ]
     },
     "execution_count": 60,
     "metadata": {},
     "output_type": "execute_result"
    }
   ],
   "source": [
    "y_predict"
   ]
  },
  {
   "cell_type": "code",
   "execution_count": 61,
   "metadata": {},
   "outputs": [],
   "source": [
    "#4 right 0 wrong"
   ]
  },
  {
   "cell_type": "code",
   "execution_count": 62,
   "metadata": {},
   "outputs": [
    {
     "name": "stdout",
     "output_type": "stream",
     "text": [
      "              precision    recall  f1-score   support\n",
      "\n",
      "           0       0.97      0.95      0.96        61\n",
      "           1       0.91      1.00      0.95        51\n",
      "           2       0.95      0.98      0.97        59\n",
      "           3       1.00      0.94      0.97        66\n",
      "           4       0.92      0.97      0.94        59\n",
      "           5       0.88      0.93      0.90        54\n",
      "           6       0.98      0.88      0.93        72\n",
      "\n",
      "    accuracy                           0.95       422\n",
      "   macro avg       0.94      0.95      0.95       422\n",
      "weighted avg       0.95      0.95      0.95       422\n",
      "\n"
     ]
    }
   ],
   "source": [
    "print(classification_report(y_test, y_pred))"
   ]
  },
  {
   "cell_type": "code",
   "execution_count": 65,
   "metadata": {},
   "outputs": [
    {
     "data": {
      "image/png": "[encoded data removed]",
      "text/plain": [
       "<Figure size 720x360 with 1 Axes>"
      ]
     },
     "metadata": {
      "needs_background": "light"
     },
     "output_type": "display_data"
    }
   ],
   "source": [
    "import matplotlib.pyplot as plt\n",
    "label = ['Cardiovascular Disease', 'Gastroenterology', 'General Practice',\n",
    "       'Hematology and Oncology', 'Nephrology', 'Neurology', 'Psychiatry']\n",
    "precision = [ 0.97, 0.91, 0.95, 1.0, 0.92, 0.88, 0.98]\n",
    "recall = [0.95, 1.0, 0.98, 0.94 ,0.97, 0.93, 0.88]\n",
    "f1 = [0.96 , 0.95, 0.97, 0.97, 0.94, 0.90, 0.93]\n",
    "plt.figure(figsize=(10, 5))\n",
    "plt.xticks([0, 1, 2, 3, 4, 5, 6],label, fontsize=10, rotation=45)\n",
    "plt.plot(precision, color='k', label = 'precision')\n",
    "plt.plot(recall, color='b', label = 'recall')\n",
    "plt.plot( f1, color='c', label = 'f1-score')\n",
    "plt.legend()\n",
    "plt.xlabel('Medical specialty')\n",
    "plt.ylabel('precision/recall/f1-score')\n",
    "plt.title('Specialty-wise performance for the best deep learning model to classify prescription')\n",
    "plt.grid()\n",
    "plt.show()"
   ]
  },
  {
   "cell_type": "code",
   "execution_count": 66,
   "metadata": {},
   "outputs": [
    {
     "data": {
      "image/png": "[encoded data removed]",
      "text/plain": [
       "<Figure size 720x360 with 1 Axes>"
      ]
     },
     "metadata": {
      "needs_background": "light"
     },
     "output_type": "display_data"
    }
   ],
   "source": [
    "#transfer learning\n",
    "label = ['Neurology', 'General Practice', 'Hematology and Oncology', 'Nephrology', 'Cardiovascular Disease', \n",
    "          'Psychiatry', 'Gastroenterology']\n",
    "precision = [1.0, 1.0, 0.97, 0.98, 0.96, 0.88, 0.98]\n",
    "recall = [0.87, 0.98, 1.0, 0.94 ,1.0, 1.0, 0.98]\n",
    "f1 = [0.93 , 0.99, 0.98, 0.96, 0.98, 0.94, 0.98]\n",
    "plt.figure(figsize=(10, 5))\n",
    "plt.xticks([0, 1, 2, 3, 4, 5, 6],label, fontsize=10, rotation=45)\n",
    "plt.plot(precision, color='k', label = 'precision')\n",
    "plt.plot(recall, color='b', label = 'recall')\n",
    "plt.plot( f1, color='c', label = 'f1-score')\n",
    "plt.legend()\n",
    "plt.xlabel('Medical specialty')\n",
    "plt.ylabel('precision/recall/f1-score')\n",
    "plt.title('Specialty-wise performance for the transfer learning model to classify prescription')\n",
    "plt.grid()\n",
    "plt.show()"
   ]
  },
  {
   "cell_type": "code",
   "execution_count": null,
   "metadata": {},
   "outputs": [],
   "source": []
  }
 ],
 "metadata": {
  "kernelspec": {
   "display_name": "Python 3",
   "language": "python",
   "name": "python3"
  },
  "language_info": {
   "codemirror_mode": {
    "name": "ipython",
    "version": 3
   },
   "file_extension": ".py",
   "mimetype": "text/x-python",
   "name": "python",
   "nbconvert_exporter": "python",
   "pygments_lexer": "ipython3",
   "version": "3.7.3"
  }
 },
 "nbformat": 4,
 "nbformat_minor": 2
}
